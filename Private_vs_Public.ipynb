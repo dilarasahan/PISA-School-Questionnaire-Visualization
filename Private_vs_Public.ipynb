{
  "nbformat": 4,
  "nbformat_minor": 0,
  "metadata": {
    "colab": {
      "name": "Private vs Public.ipynb",
      "provenance": [],
      "collapsed_sections": []
    },
    "kernelspec": {
      "name": "python3",
      "display_name": "Python 3"
    },
    "language_info": {
      "name": "python"
    }
  },
  "cells": [
    {
      "cell_type": "markdown",
      "metadata": {
        "id": "S1aa_UzwhTXR"
      },
      "source": [
        "#PRIVATE VS PUBLIC SCHOOL"
      ]
    },
    {
      "cell_type": "markdown",
      "metadata": {
        "id": "WmI-4THZhWYr"
      },
      "source": [
        "##Libraries"
      ]
    },
    {
      "cell_type": "code",
      "metadata": {
        "id": "VPWY0XW019uH"
      },
      "source": [
        "import pandas as pd\n",
        "import numpy as np\n",
        "import matplotlib.pyplot as plt\n",
        "import seaborn as sns"
      ],
      "execution_count": null,
      "outputs": []
    },
    {
      "cell_type": "markdown",
      "metadata": {
        "id": "KNHfi7LIhX3o"
      },
      "source": [
        "##Data Preprocessing"
      ]
    },
    {
      "cell_type": "code",
      "metadata": {
        "id": "AAlishNj3PKT"
      },
      "source": [
        "data = pd.read_csv('/content/pisa_data.csv')"
      ],
      "execution_count": null,
      "outputs": []
    },
    {
      "cell_type": "code",
      "metadata": {
        "id": "aN1UL6ag3X0N"
      },
      "source": [
        "columns = ['SC013Q01TA','Score','Country']\n",
        "df= data[columns]"
      ],
      "execution_count": null,
      "outputs": []
    },
    {
      "cell_type": "code",
      "metadata": {
        "colab": {
          "base_uri": "https://localhost:8080/",
          "height": 419
        },
        "id": "llnau86x3oQb",
        "outputId": "5c9fe3a4-8e24-45e3-c808-25c32fac5d1a"
      },
      "source": [
        "df\n",
        "#1 public\n",
        "#2 private"
      ],
      "execution_count": null,
      "outputs": [
        {
          "output_type": "execute_result",
          "data": {
            "text/html": [
              "<div>\n",
              "<style scoped>\n",
              "    .dataframe tbody tr th:only-of-type {\n",
              "        vertical-align: middle;\n",
              "    }\n",
              "\n",
              "    .dataframe tbody tr th {\n",
              "        vertical-align: top;\n",
              "    }\n",
              "\n",
              "    .dataframe thead th {\n",
              "        text-align: right;\n",
              "    }\n",
              "</style>\n",
              "<table border=\"1\" class=\"dataframe\">\n",
              "  <thead>\n",
              "    <tr style=\"text-align: right;\">\n",
              "      <th></th>\n",
              "      <th>SC013Q01TA</th>\n",
              "      <th>Score</th>\n",
              "      <th>Country</th>\n",
              "    </tr>\n",
              "  </thead>\n",
              "  <tbody>\n",
              "    <tr>\n",
              "      <th>0</th>\n",
              "      <td>1.0</td>\n",
              "      <td>419.7</td>\n",
              "      <td>Albania</td>\n",
              "    </tr>\n",
              "    <tr>\n",
              "      <th>1</th>\n",
              "      <td>1.0</td>\n",
              "      <td>419.7</td>\n",
              "      <td>Albania</td>\n",
              "    </tr>\n",
              "    <tr>\n",
              "      <th>2</th>\n",
              "      <td>1.0</td>\n",
              "      <td>419.7</td>\n",
              "      <td>Albania</td>\n",
              "    </tr>\n",
              "    <tr>\n",
              "      <th>3</th>\n",
              "      <td>1.0</td>\n",
              "      <td>419.7</td>\n",
              "      <td>Albania</td>\n",
              "    </tr>\n",
              "    <tr>\n",
              "      <th>4</th>\n",
              "      <td>1.0</td>\n",
              "      <td>419.7</td>\n",
              "      <td>Albania</td>\n",
              "    </tr>\n",
              "    <tr>\n",
              "      <th>...</th>\n",
              "      <td>...</td>\n",
              "      <td>...</td>\n",
              "      <td>...</td>\n",
              "    </tr>\n",
              "    <tr>\n",
              "      <th>22555</th>\n",
              "      <td>1.0</td>\n",
              "      <td>481.7</td>\n",
              "      <td>Tatarstan(RUS)</td>\n",
              "    </tr>\n",
              "    <tr>\n",
              "      <th>22556</th>\n",
              "      <td>1.0</td>\n",
              "      <td>481.7</td>\n",
              "      <td>Tatarstan(RUS)</td>\n",
              "    </tr>\n",
              "    <tr>\n",
              "      <th>22557</th>\n",
              "      <td>1.0</td>\n",
              "      <td>481.7</td>\n",
              "      <td>Tatarstan(RUS)</td>\n",
              "    </tr>\n",
              "    <tr>\n",
              "      <th>22558</th>\n",
              "      <td>1.0</td>\n",
              "      <td>481.7</td>\n",
              "      <td>Tatarstan(RUS)</td>\n",
              "    </tr>\n",
              "    <tr>\n",
              "      <th>22559</th>\n",
              "      <td>1.0</td>\n",
              "      <td>481.7</td>\n",
              "      <td>Tatarstan(RUS)</td>\n",
              "    </tr>\n",
              "  </tbody>\n",
              "</table>\n",
              "<p>22560 rows × 3 columns</p>\n",
              "</div>"
            ],
            "text/plain": [
              "       SC013Q01TA  Score         Country\n",
              "0             1.0  419.7         Albania\n",
              "1             1.0  419.7         Albania\n",
              "2             1.0  419.7         Albania\n",
              "3             1.0  419.7         Albania\n",
              "4             1.0  419.7         Albania\n",
              "...           ...    ...             ...\n",
              "22555         1.0  481.7  Tatarstan(RUS)\n",
              "22556         1.0  481.7  Tatarstan(RUS)\n",
              "22557         1.0  481.7  Tatarstan(RUS)\n",
              "22558         1.0  481.7  Tatarstan(RUS)\n",
              "22559         1.0  481.7  Tatarstan(RUS)\n",
              "\n",
              "[22560 rows x 3 columns]"
            ]
          },
          "metadata": {
            "tags": []
          },
          "execution_count": 4
        }
      ]
    },
    {
      "cell_type": "markdown",
      "metadata": {
        "id": "BdbbP-wBH-Aj"
      },
      "source": [
        "##NUMBER OF PRIVATE AND PUBLIC SCHOOL"
      ]
    },
    {
      "cell_type": "code",
      "metadata": {
        "colab": {
          "base_uri": "https://localhost:8080/"
        },
        "id": "Kk8YU6CU4ZVF",
        "outputId": "aa051d1e-bd7e-4f2b-b6f9-7f44a3a5ebaf"
      },
      "source": [
        "df['SC013Q01TA'].value_counts()\n",
        "#16601 PUBLIC SCHOOL\n",
        "#3580 PRIVATE SCHOOL"
      ],
      "execution_count": null,
      "outputs": [
        {
          "output_type": "execute_result",
          "data": {
            "text/plain": [
              "1.0    16601\n",
              "2.0     3850\n",
              "Name: SC013Q01TA, dtype: int64"
            ]
          },
          "metadata": {
            "tags": []
          },
          "execution_count": 5
        }
      ]
    },
    {
      "cell_type": "code",
      "metadata": {
        "id": "Sqx3LZNV6gVy"
      },
      "source": [
        "public = list(df['SC013Q01TA'].value_counts().values)[0] \n",
        "private= list(df['SC013Q01TA'].value_counts().values)[1] "
      ],
      "execution_count": null,
      "outputs": []
    },
    {
      "cell_type": "code",
      "metadata": {
        "colab": {
          "base_uri": "https://localhost:8080/",
          "height": 248
        },
        "id": "QC0eqZWkE1RJ",
        "outputId": "9dec21a6-172c-4160-a823-7494eb6d3483"
      },
      "source": [
        "y = [public,private]\n",
        "mylabels = [\"Public\",\"Private\"]\n",
        "color=[\"#b3b3cc\",\"#666699\"]\n",
        "df[\"SC013Q01TA\"].value_counts().plot.pie(explode=[0,0.05],autopct='%1.1f%%',shadow=True,labels=mylabels,colors=color)\n",
        "plt.legend()\n",
        "plt.show() "
      ],
      "execution_count": null,
      "outputs": [
        {
          "output_type": "display_data",
          "data": {
            "image/png": "[encoded data removed]",
            "text/plain": [
              "<Figure size 432x288 with 1 Axes>"
            ]
          },
          "metadata": {
            "tags": []
          }
        }
      ]
    },
    {
      "cell_type": "markdown",
      "metadata": {
        "id": "62pOO3ifmwj3"
      },
      "source": [
        "###We can see that the number of public schools is very high."
      ]
    },
    {
      "cell_type": "markdown",
      "metadata": {
        "id": "0wOrnSU3H3bu"
      },
      "source": [
        "##CHINA"
      ]
    },
    {
      "cell_type": "code",
      "metadata": {
        "id": "YkZKi698BDQj"
      },
      "source": [
        "china = df[df['Country'] == 'B-S-J-Z (China)']"
      ],
      "execution_count": null,
      "outputs": []
    },
    {
      "cell_type": "code",
      "metadata": {
        "colab": {
          "base_uri": "https://localhost:8080/"
        },
        "id": "34qVLt4DB2Sv",
        "outputId": "6c831d8b-e680-45b6-c45b-d5eead7bc1aa"
      },
      "source": [
        "china_public_mean = china['SC013Q01TA'].value_counts().values[0]\n",
        "china_public_mean"
      ],
      "execution_count": null,
      "outputs": [
        {
          "output_type": "execute_result",
          "data": {
            "text/plain": [
              "310"
            ]
          },
          "metadata": {
            "tags": []
          },
          "execution_count": 9
        }
      ]
    },
    {
      "cell_type": "code",
      "metadata": {
        "colab": {
          "base_uri": "https://localhost:8080/"
        },
        "id": "hP58M0gWBLrz",
        "outputId": "dccd2bfb-32f2-4cd5-98dd-cb66ec8e16e8"
      },
      "source": [
        "china_private_mean = china['SC013Q01TA'].value_counts().values[1]\n",
        "china_private_mean"
      ],
      "execution_count": null,
      "outputs": [
        {
          "output_type": "execute_result",
          "data": {
            "text/plain": [
              "51"
            ]
          },
          "metadata": {
            "tags": []
          },
          "execution_count": 10
        }
      ]
    },
    {
      "cell_type": "code",
      "metadata": {
        "colab": {
          "base_uri": "https://localhost:8080/",
          "height": 264
        },
        "id": "g8sNozclGZsH",
        "outputId": "6f503db8-a2b7-4f71-9312-af58504eb193"
      },
      "source": [
        "y = [public,private]\n",
        "mylabels = [\"Public\",\"Private\"]\n",
        "color=[\"#b3b3cc\",\"#666699\"]\n",
        "china[\"SC013Q01TA\"].value_counts().plot.pie(explode=[0,0.05],autopct='%1.1f%%',shadow=True,labels=mylabels,colors=color)\n",
        "plt.title(\"private and public schools' rate  in china\")\n",
        "plt.legend()\n",
        "plt.show() "
      ],
      "execution_count": null,
      "outputs": [
        {
          "output_type": "display_data",
          "data": {
            "image/png": "[encoded data removed]",
            "text/plain": [
              "<Figure size 432x288 with 1 Axes>"
            ]
          },
          "metadata": {
            "tags": []
          }
        }
      ]
    },
    {
      "cell_type": "markdown",
      "metadata": {
        "id": "k_dnube5H60y"
      },
      "source": [
        "##DOMINIC REPUBLIC"
      ]
    },
    {
      "cell_type": "code",
      "metadata": {
        "id": "2RrPnoAjHWw0"
      },
      "source": [
        "dominic = df[df['Country'] == 'Dominican Republic']"
      ],
      "execution_count": null,
      "outputs": []
    },
    {
      "cell_type": "code",
      "metadata": {
        "colab": {
          "base_uri": "https://localhost:8080/"
        },
        "id": "OabGnOo5HhUO",
        "outputId": "7bcc8e9f-7d94-4f3d-c7cb-72fc2cbb7070"
      },
      "source": [
        "dominic_public_mean = dominic['SC013Q01TA'].value_counts().values[0]\n",
        "dominic_public_mean"
      ],
      "execution_count": null,
      "outputs": [
        {
          "output_type": "execute_result",
          "data": {
            "text/plain": [
              "175"
            ]
          },
          "metadata": {
            "tags": []
          },
          "execution_count": 13
        }
      ]
    },
    {
      "cell_type": "code",
      "metadata": {
        "colab": {
          "base_uri": "https://localhost:8080/"
        },
        "id": "hVyFWGf_HndT",
        "outputId": "c7a43f9c-3b7a-4b21-b316-83e7fbde0112"
      },
      "source": [
        "dominic_private_mean = dominic['SC013Q01TA'].value_counts().values[1]\n",
        "dominic_private_mean"
      ],
      "execution_count": null,
      "outputs": [
        {
          "output_type": "execute_result",
          "data": {
            "text/plain": [
              "43"
            ]
          },
          "metadata": {
            "tags": []
          },
          "execution_count": 14
        }
      ]
    },
    {
      "cell_type": "code",
      "metadata": {
        "colab": {
          "base_uri": "https://localhost:8080/",
          "height": 264
        },
        "id": "ZCnT_JSAHs9m",
        "outputId": "283a65e4-6fbc-421c-9c38-aea1ffc98b4a"
      },
      "source": [
        "y = [public,private]\n",
        "mylabels = [\"Public\",\"Private\"]\n",
        "color=[\"#b3b3cc\",\"#666699\"]\n",
        "dominic[\"SC013Q01TA\"].value_counts().plot.pie(explode=[0,0.05],autopct='%1.1f%%',shadow=True,labels=mylabels,colors=color)\n",
        "plt.title(\"private and public schools' rate  in dominic republic\")\n",
        "plt.legend()\n",
        "plt.show() "
      ],
      "execution_count": null,
      "outputs": [
        {
          "output_type": "display_data",
          "data": {
            "image/png": "[encoded data removed]",
            "text/plain": [
              "<Figure size 432x288 with 1 Axes>"
            ]
          },
          "metadata": {
            "tags": []
          }
        }
      ]
    },
    {
      "cell_type": "markdown",
      "metadata": {
        "id": "S19fRL5ZI2ma"
      },
      "source": [
        "##TURKEY"
      ]
    },
    {
      "cell_type": "code",
      "metadata": {
        "id": "5QdFjdhlHyFW"
      },
      "source": [
        "turkey = df[df['Country'] == 'Turkey']"
      ],
      "execution_count": null,
      "outputs": []
    },
    {
      "cell_type": "code",
      "metadata": {
        "colab": {
          "base_uri": "https://localhost:8080/"
        },
        "id": "pC6fn6CrI8q4",
        "outputId": "cf5d44ab-d720-4b69-ef93-0bcfc768b8ed"
      },
      "source": [
        "turkey_public_mean = turkey['SC013Q01TA'].value_counts().values[0]\n",
        "turkey_public_mean"
      ],
      "execution_count": null,
      "outputs": [
        {
          "output_type": "execute_result",
          "data": {
            "text/plain": [
              "162"
            ]
          },
          "metadata": {
            "tags": []
          },
          "execution_count": 17
        }
      ]
    },
    {
      "cell_type": "code",
      "metadata": {
        "colab": {
          "base_uri": "https://localhost:8080/"
        },
        "id": "sBrn2qk_I-dI",
        "outputId": "75372ba7-ee83-41ab-c6c1-be26d6a37958"
      },
      "source": [
        "turkey_private_mean = turkey['SC013Q01TA'].value_counts().values[1]\n",
        "turkey_private_mean"
      ],
      "execution_count": null,
      "outputs": [
        {
          "output_type": "execute_result",
          "data": {
            "text/plain": [
              "24"
            ]
          },
          "metadata": {
            "tags": []
          },
          "execution_count": 18
        }
      ]
    },
    {
      "cell_type": "code",
      "metadata": {
        "colab": {
          "base_uri": "https://localhost:8080/",
          "height": 264
        },
        "id": "0hnKAhTjJJpn",
        "outputId": "8fb53d82-9547-47fc-fb19-46a61f651573"
      },
      "source": [
        "y = [public,private]\n",
        "mylabels = [\"Public\",\"Private\"]\n",
        "color=[\"#b3b3cc\",\"#666699\"]\n",
        "turkey[\"SC013Q01TA\"].value_counts().plot.pie(explode=[0,0.05],autopct='%1.1f%%',shadow=True,labels=mylabels,colors=color)\n",
        "plt.title(\"private and public schools' rate  in Turkey\")\n",
        "plt.legend()\n",
        "plt.show() "
      ],
      "execution_count": null,
      "outputs": [
        {
          "output_type": "display_data",
          "data": {
            "image/png": "[encoded data removed]",
            "text/plain": [
              "<Figure size 432x288 with 1 Axes>"
            ]
          },
          "metadata": {
            "tags": []
          }
        }
      ]
    },
    {
      "cell_type": "markdown",
      "metadata": {
        "id": "30Yf8_WXmFH-"
      },
      "source": [
        "###When we compare these 3 countries, we observed that the country with the most private schools is Dominican and the country with the most public schools is Turkey. We observed that China has a value close to Turkey. We have observed that the high number of private schools does not affect the success rate of the students in a major factor, and a good success can be achieved with public schools."
      ]
    }
  ]
}