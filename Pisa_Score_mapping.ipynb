{
  "nbformat": 4,
  "nbformat_minor": 0,
  "metadata": {
    "colab": {
      "name": "Pisa-Score-mapping",
      "provenance": []
    },
    "kernelspec": {
      "name": "python3",
      "display_name": "Python 3"
    },
    "language_info": {
      "name": "python"
    }
  },
  "cells": [
    {
      "cell_type": "markdown",
      "metadata": {
        "id": "EQY0aLicGpEL"
      },
      "source": [
        "PISA Scores Mapping Visualization by Country"
      ]
    },
    {
      "cell_type": "markdown",
      "metadata": {
        "id": "nMy_Aj9CGzV8"
      },
      "source": [
        "First I installed some packages for mapping."
      ]
    },
    {
      "cell_type": "code",
      "metadata": {
        "id": "8psODDDOIAZX"
      },
      "source": [
        "!pip install mapclassify"
      ],
      "execution_count": null,
      "outputs": []
    },
    {
      "cell_type": "code",
      "metadata": {
        "colab": {
          "base_uri": "https://localhost:8080/"
        },
        "id": "AkPNkpNb9-ok",
        "outputId": "4c527746-115a-4a7b-fc97-5d7bb2348782"
      },
      "source": [
        "!pip install pycountry"
      ],
      "execution_count": null,
      "outputs": [
        {
          "output_type": "stream",
          "text": [
            "Collecting pycountry\n",
            "  Downloading pycountry-20.7.3.tar.gz (10.1 MB)\n",
            "\u001b[K     |████████████████████████████████| 10.1 MB 14.6 MB/s \n",
            "\u001b[?25hBuilding wheels for collected packages: pycountry\n",
            "  Building wheel for pycountry (setup.py) ... \u001b[?25l\u001b[?25hdone\n",
            "  Created wheel for pycountry: filename=pycountry-20.7.3-py2.py3-none-any.whl size=10746883 sha256=0d747d84ac4400dfe40f1cf04abea89ae3d16ba3dea5812d51c16772b6627a23\n",
            "  Stored in directory: /root/.cache/pip/wheels/57/e8/3f/120ccc1ff7541c108bc5d656e2a14c39da0d824653b62284c6\n",
            "Successfully built pycountry\n",
            "Installing collected packages: pycountry\n",
            "Successfully installed pycountry-20.7.3\n"
          ],
          "name": "stdout"
        }
      ]
    },
    {
      "cell_type": "code",
      "metadata": {
        "colab": {
          "base_uri": "https://localhost:8080/"
        },
        "id": "bAUYgnPWHpgL",
        "outputId": "076f8470-7339-472c-d342-f745bbfeac17"
      },
      "source": [
        "!pip install geopandas"
      ],
      "execution_count": null,
      "outputs": [
        {
          "output_type": "stream",
          "text": [
            "Collecting geopandas\n",
            "  Downloading geopandas-0.9.0-py2.py3-none-any.whl (994 kB)\n",
            "\u001b[?25l\r\u001b[K     |▎                               | 10 kB 23.0 MB/s eta 0:00:01\r\u001b[K     |▋                               | 20 kB 29.1 MB/s eta 0:00:01\r\u001b[K     |█                               | 30 kB 25.4 MB/s eta 0:00:01\r\u001b[K     |█▎                              | 40 kB 20.3 MB/s eta 0:00:01\r\u001b[K     |█▋                              | 51 kB 11.5 MB/s eta 0:00:01\r\u001b[K     |██                              | 61 kB 13.2 MB/s eta 0:00:01\r\u001b[K     |██▎                             | 71 kB 12.9 MB/s eta 0:00:01\r\u001b[K     |██▋                             | 81 kB 13.9 MB/s eta 0:00:01\r\u001b[K     |███                             | 92 kB 14.1 MB/s eta 0:00:01\r\u001b[K     |███▎                            | 102 kB 12.1 MB/s eta 0:00:01\r\u001b[K     |███▋                            | 112 kB 12.1 MB/s eta 0:00:01\r\u001b[K     |████                            | 122 kB 12.1 MB/s eta 0:00:01\r\u001b[K     |████▎                           | 133 kB 12.1 MB/s eta 0:00:01\r\u001b[K     |████▋                           | 143 kB 12.1 MB/s eta 0:00:01\r\u001b[K     |█████                           | 153 kB 12.1 MB/s eta 0:00:01\r\u001b[K     |█████▎                          | 163 kB 12.1 MB/s eta 0:00:01\r\u001b[K     |█████▋                          | 174 kB 12.1 MB/s eta 0:00:01\r\u001b[K     |██████                          | 184 kB 12.1 MB/s eta 0:00:01\r\u001b[K     |██████▎                         | 194 kB 12.1 MB/s eta 0:00:01\r\u001b[K     |██████▋                         | 204 kB 12.1 MB/s eta 0:00:01\r\u001b[K     |███████                         | 215 kB 12.1 MB/s eta 0:00:01\r\u001b[K     |███████▎                        | 225 kB 12.1 MB/s eta 0:00:01\r\u001b[K     |███████▋                        | 235 kB 12.1 MB/s eta 0:00:01\r\u001b[K     |████████                        | 245 kB 12.1 MB/s eta 0:00:01\r\u001b[K     |████████▎                       | 256 kB 12.1 MB/s eta 0:00:01\r\u001b[K     |████████▋                       | 266 kB 12.1 MB/s eta 0:00:01\r\u001b[K     |█████████                       | 276 kB 12.1 MB/s eta 0:00:01\r\u001b[K     |█████████▎                      | 286 kB 12.1 MB/s eta 0:00:01\r\u001b[K     |█████████▌                      | 296 kB 12.1 MB/s eta 0:00:01\r\u001b[K     |█████████▉                      | 307 kB 12.1 MB/s eta 0:00:01\r\u001b[K     |██████████▏                     | 317 kB 12.1 MB/s eta 0:00:01\r\u001b[K     |██████████▌                     | 327 kB 12.1 MB/s eta 0:00:01\r\u001b[K     |██████████▉                     | 337 kB 12.1 MB/s eta 0:00:01\r\u001b[K     |███████████▏                    | 348 kB 12.1 MB/s eta 0:00:01\r\u001b[K     |███████████▌                    | 358 kB 12.1 MB/s eta 0:00:01\r\u001b[K     |███████████▉                    | 368 kB 12.1 MB/s eta 0:00:01\r\u001b[K     |████████████▏                   | 378 kB 12.1 MB/s eta 0:00:01\r\u001b[K     |████████████▌                   | 389 kB 12.1 MB/s eta 0:00:01\r\u001b[K     |████████████▉                   | 399 kB 12.1 MB/s eta 0:00:01\r\u001b[K     |█████████████▏                  | 409 kB 12.1 MB/s eta 0:00:01\r\u001b[K     |█████████████▌                  | 419 kB 12.1 MB/s eta 0:00:01\r\u001b[K     |█████████████▉                  | 430 kB 12.1 MB/s eta 0:00:01\r\u001b[K     |██████████████▏                 | 440 kB 12.1 MB/s eta 0:00:01\r\u001b[K     |██████████████▌                 | 450 kB 12.1 MB/s eta 0:00:01\r\u001b[K     |██████████████▉                 | 460 kB 12.1 MB/s eta 0:00:01\r\u001b[K     |███████████████▏                | 471 kB 12.1 MB/s eta 0:00:01\r\u001b[K     |███████████████▌                | 481 kB 12.1 MB/s eta 0:00:01\r\u001b[K     |███████████████▉                | 491 kB 12.1 MB/s eta 0:00:01\r\u001b[K     |████████████████▏               | 501 kB 12.1 MB/s eta 0:00:01\r\u001b[K     |████████████████▌               | 512 kB 12.1 MB/s eta 0:00:01\r\u001b[K     |████████████████▉               | 522 kB 12.1 MB/s eta 0:00:01\r\u001b[K     |█████████████████▏              | 532 kB 12.1 MB/s eta 0:00:01\r\u001b[K     |█████████████████▌              | 542 kB 12.1 MB/s eta 0:00:01\r\u001b[K     |█████████████████▉              | 552 kB 12.1 MB/s eta 0:00:01\r\u001b[K     |██████████████████▏             | 563 kB 12.1 MB/s eta 0:00:01\r\u001b[K     |██████████████████▌             | 573 kB 12.1 MB/s eta 0:00:01\r\u001b[K     |██████████████████▊             | 583 kB 12.1 MB/s eta 0:00:01\r\u001b[K     |███████████████████             | 593 kB 12.1 MB/s eta 0:00:01\r\u001b[K     |███████████████████▍            | 604 kB 12.1 MB/s eta 0:00:01\r\u001b[K     |███████████████████▊            | 614 kB 12.1 MB/s eta 0:00:01\r\u001b[K     |████████████████████            | 624 kB 12.1 MB/s eta 0:00:01\r\u001b[K     |████████████████████▍           | 634 kB 12.1 MB/s eta 0:00:01\r\u001b[K     |████████████████████▊           | 645 kB 12.1 MB/s eta 0:00:01\r\u001b[K     |█████████████████████           | 655 kB 12.1 MB/s eta 0:00:01\r\u001b[K     |█████████████████████▍          | 665 kB 12.1 MB/s eta 0:00:01\r\u001b[K     |█████████████████████▊          | 675 kB 12.1 MB/s eta 0:00:01\r\u001b[K     |██████████████████████          | 686 kB 12.1 MB/s eta 0:00:01\r\u001b[K     |██████████████████████▍         | 696 kB 12.1 MB/s eta 0:00:01\r\u001b[K     |██████████████████████▊         | 706 kB 12.1 MB/s eta 0:00:01\r\u001b[K     |███████████████████████         | 716 kB 12.1 MB/s eta 0:00:01\r\u001b[K     |███████████████████████▍        | 727 kB 12.1 MB/s eta 0:00:01\r\u001b[K     |███████████████████████▊        | 737 kB 12.1 MB/s eta 0:00:01\r\u001b[K     |████████████████████████        | 747 kB 12.1 MB/s eta 0:00:01\r\u001b[K     |████████████████████████▍       | 757 kB 12.1 MB/s eta 0:00:01\r\u001b[K     |████████████████████████▊       | 768 kB 12.1 MB/s eta 0:00:01\r\u001b[K     |█████████████████████████       | 778 kB 12.1 MB/s eta 0:00:01\r\u001b[K     |█████████████████████████▍      | 788 kB 12.1 MB/s eta 0:00:01\r\u001b[K     |█████████████████████████▊      | 798 kB 12.1 MB/s eta 0:00:01\r\u001b[K     |██████████████████████████      | 808 kB 12.1 MB/s eta 0:00:01\r\u001b[K     |██████████████████████████▍     | 819 kB 12.1 MB/s eta 0:00:01\r\u001b[K     |██████████████████████████▊     | 829 kB 12.1 MB/s eta 0:00:01\r\u001b[K     |███████████████████████████     | 839 kB 12.1 MB/s eta 0:00:01\r\u001b[K     |███████████████████████████▍    | 849 kB 12.1 MB/s eta 0:00:01\r\u001b[K     |███████████████████████████▊    | 860 kB 12.1 MB/s eta 0:00:01\r\u001b[K     |████████████████████████████    | 870 kB 12.1 MB/s eta 0:00:01\r\u001b[K     |████████████████████████████▎   | 880 kB 12.1 MB/s eta 0:00:01\r\u001b[K     |████████████████████████████▋   | 890 kB 12.1 MB/s eta 0:00:01\r\u001b[K     |█████████████████████████████   | 901 kB 12.1 MB/s eta 0:00:01\r\u001b[K     |█████████████████████████████▎  | 911 kB 12.1 MB/s eta 0:00:01\r\u001b[K     |█████████████████████████████▋  | 921 kB 12.1 MB/s eta 0:00:01\r\u001b[K     |██████████████████████████████  | 931 kB 12.1 MB/s eta 0:00:01\r\u001b[K     |██████████████████████████████▎ | 942 kB 12.1 MB/s eta 0:00:01\r\u001b[K     |██████████████████████████████▋ | 952 kB 12.1 MB/s eta 0:00:01\r\u001b[K     |███████████████████████████████ | 962 kB 12.1 MB/s eta 0:00:01\r\u001b[K     |███████████████████████████████▎| 972 kB 12.1 MB/s eta 0:00:01\r\u001b[K     |███████████████████████████████▋| 983 kB 12.1 MB/s eta 0:00:01\r\u001b[K     |████████████████████████████████| 993 kB 12.1 MB/s eta 0:00:01\r\u001b[K     |████████████████████████████████| 994 kB 12.1 MB/s \n",
            "\u001b[?25hRequirement already satisfied: pandas>=0.24.0 in /usr/local/lib/python3.7/dist-packages (from geopandas) (1.1.5)\n",
            "Collecting fiona>=1.8\n",
            "  Downloading Fiona-1.8.20-cp37-cp37m-manylinux1_x86_64.whl (15.4 MB)\n",
            "\u001b[K     |████████████████████████████████| 15.4 MB 25 kB/s \n",
            "\u001b[?25hRequirement already satisfied: shapely>=1.6 in /usr/local/lib/python3.7/dist-packages (from geopandas) (1.7.1)\n",
            "Collecting pyproj>=2.2.0\n",
            "  Downloading pyproj-3.1.0-cp37-cp37m-manylinux2010_x86_64.whl (6.6 MB)\n",
            "\u001b[K     |████████████████████████████████| 6.6 MB 57.8 MB/s \n",
            "\u001b[?25hRequirement already satisfied: click>=4.0 in /usr/local/lib/python3.7/dist-packages (from fiona>=1.8->geopandas) (7.1.2)\n",
            "Requirement already satisfied: setuptools in /usr/local/lib/python3.7/dist-packages (from fiona>=1.8->geopandas) (57.2.0)\n",
            "Requirement already satisfied: attrs>=17 in /usr/local/lib/python3.7/dist-packages (from fiona>=1.8->geopandas) (21.2.0)\n",
            "Collecting munch\n",
            "  Downloading munch-2.5.0-py2.py3-none-any.whl (10 kB)\n",
            "Collecting click-plugins>=1.0\n",
            "  Downloading click_plugins-1.1.1-py2.py3-none-any.whl (7.5 kB)\n",
            "Requirement already satisfied: certifi in /usr/local/lib/python3.7/dist-packages (from fiona>=1.8->geopandas) (2021.5.30)\n",
            "Collecting cligj>=0.5\n",
            "  Downloading cligj-0.7.2-py3-none-any.whl (7.1 kB)\n",
            "Requirement already satisfied: six>=1.7 in /usr/local/lib/python3.7/dist-packages (from fiona>=1.8->geopandas) (1.15.0)\n",
            "Requirement already satisfied: numpy>=1.15.4 in /usr/local/lib/python3.7/dist-packages (from pandas>=0.24.0->geopandas) (1.19.5)\n",
            "Requirement already satisfied: pytz>=2017.2 in /usr/local/lib/python3.7/dist-packages (from pandas>=0.24.0->geopandas) (2018.9)\n",
            "Requirement already satisfied: python-dateutil>=2.7.3 in /usr/local/lib/python3.7/dist-packages (from pandas>=0.24.0->geopandas) (2.8.1)\n",
            "Installing collected packages: munch, cligj, click-plugins, pyproj, fiona, geopandas\n",
            "Successfully installed click-plugins-1.1.1 cligj-0.7.2 fiona-1.8.20 geopandas-0.9.0 munch-2.5.0 pyproj-3.1.0\n"
          ],
          "name": "stdout"
        }
      ]
    },
    {
      "cell_type": "markdown",
      "metadata": {
        "id": "iGphj1vPHEAB"
      },
      "source": [
        "Importing libraries"
      ]
    },
    {
      "cell_type": "code",
      "metadata": {
        "id": "W_df8PEEx672"
      },
      "source": [
        "import pandas as pd\n",
        "import numpy as np\n",
        "import pycountry \n",
        "import matplotlib.pyplot as plt\n",
        "import geopandas\n",
        "from geopandas import GeoDataFrame\n",
        "import mapclassify"
      ],
      "execution_count": null,
      "outputs": []
    },
    {
      "cell_type": "markdown",
      "metadata": {
        "id": "_zWLHc8i-Hsa"
      },
      "source": [
        "I found a file that contains latitude and longitude values of countries. Then I converted it to csv."
      ]
    },
    {
      "cell_type": "code",
      "metadata": {
        "id": "jq5Jl0DqzxL7"
      },
      "source": [
        "data = pd.read_csv('/content/pisa_data_2.csv')"
      ],
      "execution_count": null,
      "outputs": []
    },
    {
      "cell_type": "code",
      "metadata": {
        "id": "En3DaJMSz92k"
      },
      "source": [
        "coordination_file = pd.read_csv (r'/content/latitude-longtitude.txt')\n",
        "coordination_file.to_csv(r'/content/coordination.csv', index = None)"
      ],
      "execution_count": null,
      "outputs": []
    },
    {
      "cell_type": "markdown",
      "metadata": {
        "id": "41hyrZzVHjG5"
      },
      "source": [
        "Then I used the geopandas dataset that contains the necessary features for mapping."
      ]
    },
    {
      "cell_type": "code",
      "metadata": {
        "id": "Fn3SSLKvI5uZ"
      },
      "source": [
        "world = geopandas.read_file(geopandas.datasets.get_path('naturalearth_lowres'))"
      ],
      "execution_count": null,
      "outputs": []
    },
    {
      "cell_type": "code",
      "metadata": {
        "id": "_v0-gkQcI99h"
      },
      "source": [
        "world.columns=['pop_est', 'continent', 'name', 'CODE', 'gdp_md_est', 'geometry']"
      ],
      "execution_count": null,
      "outputs": []
    },
    {
      "cell_type": "code",
      "metadata": {
        "id": "y6Zy1SS6-ksp"
      },
      "source": [
        "coord_data = pd.read_csv('/content/coordination.csv')"
      ],
      "execution_count": null,
      "outputs": []
    },
    {
      "cell_type": "code",
      "metadata": {
        "colab": {
          "base_uri": "https://localhost:8080/",
          "height": 203
        },
        "id": "F9FJwL5Q-zIf",
        "outputId": "249e5ec9-cdd7-4dad-af92-812fa3e35047"
      },
      "source": [
        "coord_data.head()"
      ],
      "execution_count": null,
      "outputs": [
        {
          "output_type": "execute_result",
          "data": {
            "text/html": [
              "<div>\n",
              "<style scoped>\n",
              "    .dataframe tbody tr th:only-of-type {\n",
              "        vertical-align: middle;\n",
              "    }\n",
              "\n",
              "    .dataframe tbody tr th {\n",
              "        vertical-align: top;\n",
              "    }\n",
              "\n",
              "    .dataframe thead th {\n",
              "        text-align: right;\n",
              "    }\n",
              "</style>\n",
              "<table border=\"1\" class=\"dataframe\">\n",
              "  <thead>\n",
              "    <tr style=\"text-align: right;\">\n",
              "      <th></th>\n",
              "      <th>Country</th>\n",
              "      <th>latitude</th>\n",
              "      <th>longitude</th>\n",
              "    </tr>\n",
              "  </thead>\n",
              "  <tbody>\n",
              "    <tr>\n",
              "      <th>0</th>\n",
              "      <td>Afghanistan</td>\n",
              "      <td>33.939110</td>\n",
              "      <td>67.709953</td>\n",
              "    </tr>\n",
              "    <tr>\n",
              "      <th>1</th>\n",
              "      <td>Albania</td>\n",
              "      <td>41.153332</td>\n",
              "      <td>20.168331</td>\n",
              "    </tr>\n",
              "    <tr>\n",
              "      <th>2</th>\n",
              "      <td>Algeria</td>\n",
              "      <td>28.033886</td>\n",
              "      <td>1.659626</td>\n",
              "    </tr>\n",
              "    <tr>\n",
              "      <th>3</th>\n",
              "      <td>Angola</td>\n",
              "      <td>-11.202692</td>\n",
              "      <td>17.873887</td>\n",
              "    </tr>\n",
              "    <tr>\n",
              "      <th>4</th>\n",
              "      <td>Argentina</td>\n",
              "      <td>-38.416097</td>\n",
              "      <td>-63.616672</td>\n",
              "    </tr>\n",
              "  </tbody>\n",
              "</table>\n",
              "</div>"
            ],
            "text/plain": [
              "       Country   latitude  longitude\n",
              "0  Afghanistan  33.939110  67.709953\n",
              "1      Albania  41.153332  20.168331\n",
              "2      Algeria  28.033886   1.659626\n",
              "3       Angola -11.202692  17.873887\n",
              "4    Argentina -38.416097 -63.616672"
            ]
          },
          "metadata": {
            "tags": []
          },
          "execution_count": 11
        }
      ]
    },
    {
      "cell_type": "markdown",
      "metadata": {
        "id": "6vYhlgb2HxHU"
      },
      "source": [
        "First I merged the world data with left join."
      ]
    },
    {
      "cell_type": "code",
      "metadata": {
        "id": "9X3qw_F2-rFQ"
      },
      "source": [
        "data = data.merge(world,left_on = 'CNT' ,right_on='CODE', how='left')"
      ],
      "execution_count": null,
      "outputs": []
    },
    {
      "cell_type": "markdown",
      "metadata": {
        "id": "EjBXsm1IH14v"
      },
      "source": [
        "Then I merged the coordination data with left join."
      ]
    },
    {
      "cell_type": "code",
      "metadata": {
        "id": "X6WTDWXqHv9F"
      },
      "source": [
        "data = data.merge(coord_data, on = 'Country', how = 'left')"
      ],
      "execution_count": null,
      "outputs": []
    },
    {
      "cell_type": "code",
      "metadata": {
        "id": "R-BHK58ySZ8F"
      },
      "source": [
        "data = GeoDataFrame(data)"
      ],
      "execution_count": null,
      "outputs": []
    },
    {
      "cell_type": "markdown",
      "metadata": {
        "id": "e9yUfn3aIFkb"
      },
      "source": [
        "I created a subset to look at the NaN values ​​and which countries."
      ]
    },
    {
      "cell_type": "code",
      "metadata": {
        "colab": {
          "base_uri": "https://localhost:8080/"
        },
        "id": "NMG_AUO2CeS4",
        "outputId": "cd307196-5dda-4b01-ccc6-2d018d60060a"
      },
      "source": [
        "sub = data.groupby(['Country'])['latitude','longitude'].mean()"
      ],
      "execution_count": null,
      "outputs": [
        {
          "output_type": "stream",
          "text": [
            "/usr/local/lib/python3.7/dist-packages/ipykernel_launcher.py:1: FutureWarning: Indexing with multiple keys (implicitly converted to a tuple of keys) will be deprecated, use a list instead.\n",
            "  \"\"\"Entry point for launching an IPython kernel.\n"
          ],
          "name": "stderr"
        }
      ]
    },
    {
      "cell_type": "code",
      "metadata": {
        "colab": {
          "base_uri": "https://localhost:8080/",
          "height": 296
        },
        "id": "jMorjkntDUJU",
        "outputId": "76b4af30-4d83-4caa-9284-62f66baa20dd"
      },
      "source": [
        "sub[sub['latitude'].isna() == True]"
      ],
      "execution_count": null,
      "outputs": [
        {
          "output_type": "execute_result",
          "data": {
            "text/html": [
              "<div>\n",
              "<style scoped>\n",
              "    .dataframe tbody tr th:only-of-type {\n",
              "        vertical-align: middle;\n",
              "    }\n",
              "\n",
              "    .dataframe tbody tr th {\n",
              "        vertical-align: top;\n",
              "    }\n",
              "\n",
              "    .dataframe thead th {\n",
              "        text-align: right;\n",
              "    }\n",
              "</style>\n",
              "<table border=\"1\" class=\"dataframe\">\n",
              "  <thead>\n",
              "    <tr style=\"text-align: right;\">\n",
              "      <th></th>\n",
              "      <th>latitude</th>\n",
              "      <th>longitude</th>\n",
              "    </tr>\n",
              "    <tr>\n",
              "      <th>Country</th>\n",
              "      <th></th>\n",
              "      <th></th>\n",
              "    </tr>\n",
              "  </thead>\n",
              "  <tbody>\n",
              "    <tr>\n",
              "      <th>Hong Kong</th>\n",
              "      <td>NaN</td>\n",
              "      <td>NaN</td>\n",
              "    </tr>\n",
              "    <tr>\n",
              "      <th>Kosovo</th>\n",
              "      <td>NaN</td>\n",
              "      <td>NaN</td>\n",
              "    </tr>\n",
              "    <tr>\n",
              "      <th>Macao</th>\n",
              "      <td>NaN</td>\n",
              "      <td>NaN</td>\n",
              "    </tr>\n",
              "    <tr>\n",
              "      <th>Macedonia, the former Yugoslav Republic of</th>\n",
              "      <td>NaN</td>\n",
              "      <td>NaN</td>\n",
              "    </tr>\n",
              "    <tr>\n",
              "      <th>Moscow Region(RUS)</th>\n",
              "      <td>NaN</td>\n",
              "      <td>NaN</td>\n",
              "    </tr>\n",
              "    <tr>\n",
              "      <th>Singapore</th>\n",
              "      <td>NaN</td>\n",
              "      <td>NaN</td>\n",
              "    </tr>\n",
              "    <tr>\n",
              "      <th>Tatarstan(RUS)</th>\n",
              "      <td>NaN</td>\n",
              "      <td>NaN</td>\n",
              "    </tr>\n",
              "  </tbody>\n",
              "</table>\n",
              "</div>"
            ],
            "text/plain": [
              "                                            latitude  longitude\n",
              "Country                                                        \n",
              "Hong Kong                                        NaN        NaN\n",
              "Kosovo                                           NaN        NaN\n",
              "Macao                                            NaN        NaN\n",
              "Macedonia, the former Yugoslav Republic of       NaN        NaN\n",
              "Moscow Region(RUS)                               NaN        NaN\n",
              "Singapore                                        NaN        NaN\n",
              "Tatarstan(RUS)                                   NaN        NaN"
            ]
          },
          "metadata": {
            "tags": []
          },
          "execution_count": 54
        }
      ]
    },
    {
      "cell_type": "code",
      "metadata": {
        "colab": {
          "base_uri": "https://localhost:8080/"
        },
        "id": "AM9CAPU9Fbpk",
        "outputId": "2e4f8eb1-041e-4b42-d333-5e6065d0d33e"
      },
      "source": [
        "data['Country'][data['CODE'].isna() == True].value_counts()"
      ],
      "execution_count": null,
      "outputs": [
        {
          "output_type": "execute_result",
          "data": {
            "text/plain": [
              "B-S-J-Z (China)       361\n",
              "France                252\n",
              "Norway                251\n",
              "Tatarstan(RUS)        239\n",
              "Kosovo                211\n",
              "Baku(Azerbaijan)      197\n",
              "Chinese Taipei        192\n",
              "Singapore             166\n",
              "Hong Kong             152\n",
              "Moscow Region(RUS)     61\n",
              "Malta                  50\n",
              "Macao                  45\n",
              "Name: Country, dtype: int64"
            ]
          },
          "metadata": {
            "tags": []
          },
          "execution_count": 59
        }
      ]
    },
    {
      "cell_type": "code",
      "metadata": {
        "id": "s3nM3JisGXVP"
      },
      "source": [
        "sub = data[data['geometry'].isna() == False]"
      ],
      "execution_count": null,
      "outputs": []
    },
    {
      "cell_type": "markdown",
      "metadata": {
        "id": "k4HNl5KcIZz6"
      },
      "source": [
        "I gave the values of some missing latitude and longitude features."
      ]
    },
    {
      "cell_type": "code",
      "metadata": {
        "colab": {
          "base_uri": "https://localhost:8080/"
        },
        "id": "wY1ZN2AKIs8p",
        "outputId": "32594e72-36eb-4743-f39f-7308b7981b27"
      },
      "source": [
        "sub['latitude'][sub['Country'] == 'Macedonia, the former Yugoslav Republic of'] = 41.6086\n",
        "sub['longitude'][sub['Country'] == 'Macedonia, the former Yugoslav Republic of'] = 21.7453"
      ],
      "execution_count": null,
      "outputs": [
        {
          "output_type": "stream",
          "text": [
            "/usr/local/lib/python3.7/dist-packages/ipykernel_launcher.py:1: SettingWithCopyWarning: \n",
            "A value is trying to be set on a copy of a slice from a DataFrame\n",
            "\n",
            "See the caveats in the documentation: https://pandas.pydata.org/pandas-docs/stable/user_guide/indexing.html#returning-a-view-versus-a-copy\n",
            "  \"\"\"Entry point for launching an IPython kernel.\n",
            "/usr/local/lib/python3.7/dist-packages/pandas/core/series.py:1021: SettingWithCopyWarning: \n",
            "A value is trying to be set on a copy of a slice from a DataFrame\n",
            "\n",
            "See the caveats in the documentation: https://pandas.pydata.org/pandas-docs/stable/user_guide/indexing.html#returning-a-view-versus-a-copy\n",
            "  self._where(~key, value, inplace=True)\n",
            "/usr/local/lib/python3.7/dist-packages/ipykernel_launcher.py:2: SettingWithCopyWarning: \n",
            "A value is trying to be set on a copy of a slice from a DataFrame\n",
            "\n",
            "See the caveats in the documentation: https://pandas.pydata.org/pandas-docs/stable/user_guide/indexing.html#returning-a-view-versus-a-copy\n",
            "  \n"
          ],
          "name": "stderr"
        }
      ]
    },
    {
      "cell_type": "markdown",
      "metadata": {
        "id": "f8pQEihiIpNa"
      },
      "source": [
        "Visualization"
      ]
    },
    {
      "cell_type": "code",
      "metadata": {
        "colab": {
          "base_uri": "https://localhost:8080/",
          "height": 575
        },
        "id": "p1uNzgOtAe2d",
        "outputId": "661faa62-98ac-4cf4-d121-346a6291fea6"
      },
      "source": [
        "sub.plot(column='Score',scheme=\"quantiles\",\n",
        "           figsize=(25, 20),\n",
        "           legend=True,cmap='Spectral',)\n",
        "plt.title('Countries and Scores',fontsize=25)\n",
        "\n",
        "plt.show()"
      ],
      "execution_count": null,
      "outputs": [
        {
          "output_type": "display_data",
          "data": {
            "image/png": "[encoded data removed]",
            "text/plain": [
              "<Figure size 1800x1440 with 1 Axes>"
            ]
          },
          "metadata": {
            "tags": [],
            "needs_background": "light"
          }
        }
      ]
    },
    {
      "cell_type": "code",
      "metadata": {
        "id": "tcHZgQFDLSYk"
      },
      "source": [
        ""
      ],
      "execution_count": null,
      "outputs": []
    }
  ]
}