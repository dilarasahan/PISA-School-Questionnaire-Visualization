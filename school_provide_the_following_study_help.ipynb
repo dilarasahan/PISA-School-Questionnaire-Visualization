{
  "nbformat": 4,
  "nbformat_minor": 0,
  "metadata": {
    "colab": {
      "name": "school_provide_the_following_study_help.ipynb",
      "provenance": [],
      "collapsed_sections": []
    },
    "kernelspec": {
      "name": "python3",
      "display_name": "Python 3"
    },
    "language_info": {
      "name": "python"
    }
  },
  "cells": [
    {
      "cell_type": "markdown",
      "metadata": {
        "id": "3RGGaOr9cSBl"
      },
      "source": [
        "#School Provide the Following Study Help"
      ]
    },
    {
      "cell_type": "markdown",
      "metadata": {
        "id": "2yzV5kBgcYz2"
      },
      "source": [
        "##Lİbraries"
      ]
    },
    {
      "cell_type": "code",
      "metadata": {
        "id": "h0-EqwG8iaw8"
      },
      "source": [
        "import pandas as pd\n",
        "import matplotlib.pyplot as plt\n",
        "import seaborn as sns"
      ],
      "execution_count": null,
      "outputs": []
    },
    {
      "cell_type": "markdown",
      "metadata": {
        "id": "ffmSi78wcaTG"
      },
      "source": [
        "##Edit Data"
      ]
    },
    {
      "cell_type": "code",
      "metadata": {
        "id": "7dYKep0rl_Yi"
      },
      "source": [
        "data = pd.read_csv('pisa_data.csv')"
      ],
      "execution_count": null,
      "outputs": []
    },
    {
      "cell_type": "code",
      "metadata": {
        "colab": {
          "base_uri": "https://localhost:8080/",
          "height": 253
        },
        "id": "pwWj79RPmHqk",
        "outputId": "8ec75cf7-3ad0-468c-bc4e-518973bc2033"
      },
      "source": [
        "data.head()"
      ],
      "execution_count": null,
      "outputs": [
        {
          "output_type": "execute_result",
          "data": {
            "text/html": [
              "<div>\n",
              "<style scoped>\n",
              "    .dataframe tbody tr th:only-of-type {\n",
              "        vertical-align: middle;\n",
              "    }\n",
              "\n",
              "    .dataframe tbody tr th {\n",
              "        vertical-align: top;\n",
              "    }\n",
              "\n",
              "    .dataframe thead th {\n",
              "        text-align: right;\n",
              "    }\n",
              "</style>\n",
              "<table border=\"1\" class=\"dataframe\">\n",
              "  <thead>\n",
              "    <tr style=\"text-align: right;\">\n",
              "      <th></th>\n",
              "      <th>CNTSCHID</th>\n",
              "      <th>LANGTEST</th>\n",
              "      <th>SC001Q01TA</th>\n",
              "      <th>SC013Q01TA</th>\n",
              "      <th>SC016Q01TA</th>\n",
              "      <th>SC016Q02TA</th>\n",
              "      <th>SC016Q03TA</th>\n",
              "      <th>SC016Q04TA</th>\n",
              "      <th>SC017Q01NA</th>\n",
              "      <th>SC017Q02NA</th>\n",
              "      <th>SC017Q03NA</th>\n",
              "      <th>SC017Q04NA</th>\n",
              "      <th>SC017Q05NA</th>\n",
              "      <th>SC017Q06NA</th>\n",
              "      <th>SC017Q07NA</th>\n",
              "      <th>SC017Q08NA</th>\n",
              "      <th>SC161Q01SA</th>\n",
              "      <th>SC161Q02SA</th>\n",
              "      <th>SC161Q03SA</th>\n",
              "      <th>SC161Q04SA</th>\n",
              "      <th>SC161Q05SA</th>\n",
              "      <th>SC162Q01SA</th>\n",
              "      <th>SC155Q01HA</th>\n",
              "      <th>SC155Q02HA</th>\n",
              "      <th>SC155Q03HA</th>\n",
              "      <th>SC155Q04HA</th>\n",
              "      <th>SC155Q05HA</th>\n",
              "      <th>SC155Q06HA</th>\n",
              "      <th>SC155Q07HA</th>\n",
              "      <th>SC155Q08HA</th>\n",
              "      <th>SC155Q09HA</th>\n",
              "      <th>SC155Q10HA</th>\n",
              "      <th>SC155Q11HA</th>\n",
              "      <th>SC156Q01HA</th>\n",
              "      <th>SC156Q02HA</th>\n",
              "      <th>SC156Q03HA</th>\n",
              "      <th>SC156Q04HA</th>\n",
              "      <th>SC156Q05HA</th>\n",
              "      <th>SC156Q06HA</th>\n",
              "      <th>SC156Q07HA</th>\n",
              "      <th>...</th>\n",
              "      <th>SC053Q16IA</th>\n",
              "      <th>SC053D11TA</th>\n",
              "      <th>SC150Q01IA</th>\n",
              "      <th>SC150Q02IA</th>\n",
              "      <th>SC150Q03IA</th>\n",
              "      <th>SC150Q04IA</th>\n",
              "      <th>SC150Q05IA</th>\n",
              "      <th>SC164Q01HA</th>\n",
              "      <th>SC064Q01TA</th>\n",
              "      <th>SC064Q02TA</th>\n",
              "      <th>SC064Q03TA</th>\n",
              "      <th>SC064Q04NA</th>\n",
              "      <th>SC152Q01HA</th>\n",
              "      <th>SC160Q01WA</th>\n",
              "      <th>SC052Q01NA</th>\n",
              "      <th>SC052Q02NA</th>\n",
              "      <th>SC052Q03HA</th>\n",
              "      <th>PRIVATESCH</th>\n",
              "      <th>SCHLTYPE</th>\n",
              "      <th>STRATIO</th>\n",
              "      <th>SCHSIZE</th>\n",
              "      <th>RATCMP1</th>\n",
              "      <th>RATCMP2</th>\n",
              "      <th>TOTAT</th>\n",
              "      <th>PROATCE</th>\n",
              "      <th>PROAT5AB</th>\n",
              "      <th>PROAT5AM</th>\n",
              "      <th>PROAT6</th>\n",
              "      <th>CLSIZE</th>\n",
              "      <th>CREACTIV</th>\n",
              "      <th>EDUSHORT</th>\n",
              "      <th>STAFFSHORT</th>\n",
              "      <th>STUBEHA</th>\n",
              "      <th>TEACHBEHA</th>\n",
              "      <th>SCMCEG</th>\n",
              "      <th>W_SCHGRNRABWT</th>\n",
              "      <th>W_FSTUWT_SCH_SUM</th>\n",
              "      <th>SENWT</th>\n",
              "      <th>Country</th>\n",
              "      <th>Score</th>\n",
              "    </tr>\n",
              "  </thead>\n",
              "  <tbody>\n",
              "    <tr>\n",
              "      <th>0</th>\n",
              "      <td>800002</td>\n",
              "      <td>140.0</td>\n",
              "      <td>1.0</td>\n",
              "      <td>1.0</td>\n",
              "      <td>95.0</td>\n",
              "      <td>0.0</td>\n",
              "      <td>5.0</td>\n",
              "      <td>0.0</td>\n",
              "      <td>1.0</td>\n",
              "      <td>1.0</td>\n",
              "      <td>1.0</td>\n",
              "      <td>1.0</td>\n",
              "      <td>3.0</td>\n",
              "      <td>3.0</td>\n",
              "      <td>3.0</td>\n",
              "      <td>3.0</td>\n",
              "      <td>0.0</td>\n",
              "      <td>0.0</td>\n",
              "      <td>1.0</td>\n",
              "      <td>0.0</td>\n",
              "      <td>0.0</td>\n",
              "      <td>2.0</td>\n",
              "      <td>2.0</td>\n",
              "      <td>2.0</td>\n",
              "      <td>2.0</td>\n",
              "      <td>1.0</td>\n",
              "      <td>1.0</td>\n",
              "      <td>3.0</td>\n",
              "      <td>3.0</td>\n",
              "      <td>3.0</td>\n",
              "      <td>2.0</td>\n",
              "      <td>3.0</td>\n",
              "      <td>3.0</td>\n",
              "      <td>1.0</td>\n",
              "      <td>1.0</td>\n",
              "      <td>1.0</td>\n",
              "      <td>1.0</td>\n",
              "      <td>1.0</td>\n",
              "      <td>1.0</td>\n",
              "      <td>1.0</td>\n",
              "      <td>...</td>\n",
              "      <td>1.0</td>\n",
              "      <td>8002</td>\n",
              "      <td>2.0</td>\n",
              "      <td>2.0</td>\n",
              "      <td>2.0</td>\n",
              "      <td>2.0</td>\n",
              "      <td>2.0</td>\n",
              "      <td>0.0</td>\n",
              "      <td>70.0</td>\n",
              "      <td>70.0</td>\n",
              "      <td>100.0</td>\n",
              "      <td>0.0</td>\n",
              "      <td>2.0</td>\n",
              "      <td>NaN</td>\n",
              "      <td>2.0</td>\n",
              "      <td>2.0</td>\n",
              "      <td>2.0</td>\n",
              "      <td>public</td>\n",
              "      <td>3.0</td>\n",
              "      <td>NaN</td>\n",
              "      <td>NaN</td>\n",
              "      <td>NaN</td>\n",
              "      <td>0.0000</td>\n",
              "      <td>26.0</td>\n",
              "      <td>0.0000</td>\n",
              "      <td>0.0000</td>\n",
              "      <td>0.1154</td>\n",
              "      <td>0.0</td>\n",
              "      <td>18.0</td>\n",
              "      <td>1.0</td>\n",
              "      <td>1.2478</td>\n",
              "      <td>-1.4551</td>\n",
              "      <td>-1.1797</td>\n",
              "      <td>-2.0409</td>\n",
              "      <td>-1.0391</td>\n",
              "      <td>7.98891</td>\n",
              "      <td>115.10603</td>\n",
              "      <td>24.81933</td>\n",
              "      <td>Albania</td>\n",
              "      <td>419.7</td>\n",
              "    </tr>\n",
              "    <tr>\n",
              "      <th>1</th>\n",
              "      <td>800003</td>\n",
              "      <td>140.0</td>\n",
              "      <td>1.0</td>\n",
              "      <td>1.0</td>\n",
              "      <td>NaN</td>\n",
              "      <td>NaN</td>\n",
              "      <td>100.0</td>\n",
              "      <td>NaN</td>\n",
              "      <td>1.0</td>\n",
              "      <td>1.0</td>\n",
              "      <td>1.0</td>\n",
              "      <td>1.0</td>\n",
              "      <td>2.0</td>\n",
              "      <td>3.0</td>\n",
              "      <td>2.0</td>\n",
              "      <td>3.0</td>\n",
              "      <td>1.0</td>\n",
              "      <td>0.0</td>\n",
              "      <td>0.0</td>\n",
              "      <td>0.0</td>\n",
              "      <td>0.0</td>\n",
              "      <td>NaN</td>\n",
              "      <td>2.0</td>\n",
              "      <td>2.0</td>\n",
              "      <td>2.0</td>\n",
              "      <td>2.0</td>\n",
              "      <td>2.0</td>\n",
              "      <td>3.0</td>\n",
              "      <td>3.0</td>\n",
              "      <td>2.0</td>\n",
              "      <td>1.0</td>\n",
              "      <td>2.0</td>\n",
              "      <td>3.0</td>\n",
              "      <td>2.0</td>\n",
              "      <td>2.0</td>\n",
              "      <td>2.0</td>\n",
              "      <td>1.0</td>\n",
              "      <td>2.0</td>\n",
              "      <td>1.0</td>\n",
              "      <td>2.0</td>\n",
              "      <td>...</td>\n",
              "      <td>2.0</td>\n",
              "      <td>8002</td>\n",
              "      <td>1.0</td>\n",
              "      <td>2.0</td>\n",
              "      <td>2.0</td>\n",
              "      <td>1.0</td>\n",
              "      <td>1.0</td>\n",
              "      <td>NaN</td>\n",
              "      <td>NaN</td>\n",
              "      <td>NaN</td>\n",
              "      <td>NaN</td>\n",
              "      <td>NaN</td>\n",
              "      <td>1.0</td>\n",
              "      <td>1.0</td>\n",
              "      <td>2.0</td>\n",
              "      <td>2.0</td>\n",
              "      <td>2.0</td>\n",
              "      <td>public</td>\n",
              "      <td>3.0</td>\n",
              "      <td>NaN</td>\n",
              "      <td>NaN</td>\n",
              "      <td>NaN</td>\n",
              "      <td>NaN</td>\n",
              "      <td>6.0</td>\n",
              "      <td>1.0000</td>\n",
              "      <td>0.3333</td>\n",
              "      <td>0.3333</td>\n",
              "      <td>0.0</td>\n",
              "      <td>13.0</td>\n",
              "      <td>1.0</td>\n",
              "      <td>0.6221</td>\n",
              "      <td>-1.4551</td>\n",
              "      <td>2.1196</td>\n",
              "      <td>2.5150</td>\n",
              "      <td>-1.0542</td>\n",
              "      <td>6.50492</td>\n",
              "      <td>26.01970</td>\n",
              "      <td>20.20900</td>\n",
              "      <td>Albania</td>\n",
              "      <td>419.7</td>\n",
              "    </tr>\n",
              "    <tr>\n",
              "      <th>2</th>\n",
              "      <td>800004</td>\n",
              "      <td>140.0</td>\n",
              "      <td>1.0</td>\n",
              "      <td>1.0</td>\n",
              "      <td>100.0</td>\n",
              "      <td>0.0</td>\n",
              "      <td>0.0</td>\n",
              "      <td>0.0</td>\n",
              "      <td>1.0</td>\n",
              "      <td>1.0</td>\n",
              "      <td>1.0</td>\n",
              "      <td>1.0</td>\n",
              "      <td>2.0</td>\n",
              "      <td>3.0</td>\n",
              "      <td>2.0</td>\n",
              "      <td>2.0</td>\n",
              "      <td>0.0</td>\n",
              "      <td>0.0</td>\n",
              "      <td>1.0</td>\n",
              "      <td>0.0</td>\n",
              "      <td>0.0</td>\n",
              "      <td>2.0</td>\n",
              "      <td>2.0</td>\n",
              "      <td>3.0</td>\n",
              "      <td>1.0</td>\n",
              "      <td>1.0</td>\n",
              "      <td>1.0</td>\n",
              "      <td>3.0</td>\n",
              "      <td>3.0</td>\n",
              "      <td>1.0</td>\n",
              "      <td>1.0</td>\n",
              "      <td>1.0</td>\n",
              "      <td>3.0</td>\n",
              "      <td>1.0</td>\n",
              "      <td>1.0</td>\n",
              "      <td>1.0</td>\n",
              "      <td>2.0</td>\n",
              "      <td>1.0</td>\n",
              "      <td>2.0</td>\n",
              "      <td>1.0</td>\n",
              "      <td>...</td>\n",
              "      <td>2.0</td>\n",
              "      <td>8002</td>\n",
              "      <td>1.0</td>\n",
              "      <td>1.0</td>\n",
              "      <td>1.0</td>\n",
              "      <td>1.0</td>\n",
              "      <td>1.0</td>\n",
              "      <td>1.0</td>\n",
              "      <td>62.0</td>\n",
              "      <td>80.0</td>\n",
              "      <td>60.0</td>\n",
              "      <td>90.0</td>\n",
              "      <td>1.0</td>\n",
              "      <td>1.0</td>\n",
              "      <td>1.0</td>\n",
              "      <td>1.0</td>\n",
              "      <td>1.0</td>\n",
              "      <td>public</td>\n",
              "      <td>3.0</td>\n",
              "      <td>9.7619</td>\n",
              "      <td>205.0</td>\n",
              "      <td>0.0000</td>\n",
              "      <td>NaN</td>\n",
              "      <td>21.0</td>\n",
              "      <td>1.0000</td>\n",
              "      <td>0.5238</td>\n",
              "      <td>0.4762</td>\n",
              "      <td>0.0</td>\n",
              "      <td>18.0</td>\n",
              "      <td>2.0</td>\n",
              "      <td>0.4591</td>\n",
              "      <td>-1.4551</td>\n",
              "      <td>-0.6199</td>\n",
              "      <td>-0.4415</td>\n",
              "      <td>0.9042</td>\n",
              "      <td>6.64198</td>\n",
              "      <td>99.62974</td>\n",
              "      <td>20.63480</td>\n",
              "      <td>Albania</td>\n",
              "      <td>419.7</td>\n",
              "    </tr>\n",
              "    <tr>\n",
              "      <th>3</th>\n",
              "      <td>800005</td>\n",
              "      <td>140.0</td>\n",
              "      <td>2.0</td>\n",
              "      <td>1.0</td>\n",
              "      <td>100.0</td>\n",
              "      <td>0.0</td>\n",
              "      <td>0.0</td>\n",
              "      <td>0.0</td>\n",
              "      <td>3.0</td>\n",
              "      <td>3.0</td>\n",
              "      <td>2.0</td>\n",
              "      <td>3.0</td>\n",
              "      <td>4.0</td>\n",
              "      <td>3.0</td>\n",
              "      <td>2.0</td>\n",
              "      <td>2.0</td>\n",
              "      <td>0.0</td>\n",
              "      <td>0.0</td>\n",
              "      <td>1.0</td>\n",
              "      <td>0.0</td>\n",
              "      <td>0.0</td>\n",
              "      <td>1.0</td>\n",
              "      <td>2.0</td>\n",
              "      <td>3.0</td>\n",
              "      <td>2.0</td>\n",
              "      <td>2.0</td>\n",
              "      <td>2.0</td>\n",
              "      <td>3.0</td>\n",
              "      <td>3.0</td>\n",
              "      <td>3.0</td>\n",
              "      <td>2.0</td>\n",
              "      <td>3.0</td>\n",
              "      <td>2.0</td>\n",
              "      <td>2.0</td>\n",
              "      <td>2.0</td>\n",
              "      <td>1.0</td>\n",
              "      <td>1.0</td>\n",
              "      <td>1.0</td>\n",
              "      <td>2.0</td>\n",
              "      <td>1.0</td>\n",
              "      <td>...</td>\n",
              "      <td>2.0</td>\n",
              "      <td>8001</td>\n",
              "      <td>2.0</td>\n",
              "      <td>2.0</td>\n",
              "      <td>2.0</td>\n",
              "      <td>2.0</td>\n",
              "      <td>2.0</td>\n",
              "      <td>1.0</td>\n",
              "      <td>65.0</td>\n",
              "      <td>60.0</td>\n",
              "      <td>58.0</td>\n",
              "      <td>55.0</td>\n",
              "      <td>1.0</td>\n",
              "      <td>3.0</td>\n",
              "      <td>2.0</td>\n",
              "      <td>1.0</td>\n",
              "      <td>1.0</td>\n",
              "      <td>public</td>\n",
              "      <td>3.0</td>\n",
              "      <td>NaN</td>\n",
              "      <td>NaN</td>\n",
              "      <td>NaN</td>\n",
              "      <td>0.3333</td>\n",
              "      <td>34.5</td>\n",
              "      <td>0.6087</td>\n",
              "      <td>0.3623</td>\n",
              "      <td>0.6377</td>\n",
              "      <td>0.0</td>\n",
              "      <td>23.0</td>\n",
              "      <td>1.0</td>\n",
              "      <td>1.3065</td>\n",
              "      <td>1.2432</td>\n",
              "      <td>-0.2682</td>\n",
              "      <td>-0.0452</td>\n",
              "      <td>-1.5648</td>\n",
              "      <td>5.93762</td>\n",
              "      <td>66.50133</td>\n",
              "      <td>18.44654</td>\n",
              "      <td>Albania</td>\n",
              "      <td>419.7</td>\n",
              "    </tr>\n",
              "    <tr>\n",
              "      <th>4</th>\n",
              "      <td>800006</td>\n",
              "      <td>140.0</td>\n",
              "      <td>2.0</td>\n",
              "      <td>1.0</td>\n",
              "      <td>100.0</td>\n",
              "      <td>NaN</td>\n",
              "      <td>NaN</td>\n",
              "      <td>NaN</td>\n",
              "      <td>1.0</td>\n",
              "      <td>1.0</td>\n",
              "      <td>1.0</td>\n",
              "      <td>1.0</td>\n",
              "      <td>2.0</td>\n",
              "      <td>2.0</td>\n",
              "      <td>1.0</td>\n",
              "      <td>1.0</td>\n",
              "      <td>0.0</td>\n",
              "      <td>0.0</td>\n",
              "      <td>1.0</td>\n",
              "      <td>0.0</td>\n",
              "      <td>0.0</td>\n",
              "      <td>2.0</td>\n",
              "      <td>2.0</td>\n",
              "      <td>4.0</td>\n",
              "      <td>2.0</td>\n",
              "      <td>2.0</td>\n",
              "      <td>2.0</td>\n",
              "      <td>4.0</td>\n",
              "      <td>3.0</td>\n",
              "      <td>4.0</td>\n",
              "      <td>1.0</td>\n",
              "      <td>2.0</td>\n",
              "      <td>4.0</td>\n",
              "      <td>1.0</td>\n",
              "      <td>1.0</td>\n",
              "      <td>1.0</td>\n",
              "      <td>1.0</td>\n",
              "      <td>1.0</td>\n",
              "      <td>1.0</td>\n",
              "      <td>1.0</td>\n",
              "      <td>...</td>\n",
              "      <td>2.0</td>\n",
              "      <td>8001</td>\n",
              "      <td>2.0</td>\n",
              "      <td>2.0</td>\n",
              "      <td>2.0</td>\n",
              "      <td>2.0</td>\n",
              "      <td>2.0</td>\n",
              "      <td>NaN</td>\n",
              "      <td>97.0</td>\n",
              "      <td>97.0</td>\n",
              "      <td>99.0</td>\n",
              "      <td>2.0</td>\n",
              "      <td>1.0</td>\n",
              "      <td>3.0</td>\n",
              "      <td>2.0</td>\n",
              "      <td>2.0</td>\n",
              "      <td>1.0</td>\n",
              "      <td>public</td>\n",
              "      <td>3.0</td>\n",
              "      <td>18.0000</td>\n",
              "      <td>315.0</td>\n",
              "      <td>0.0256</td>\n",
              "      <td>1.0000</td>\n",
              "      <td>17.5</td>\n",
              "      <td>1.0000</td>\n",
              "      <td>0.0000</td>\n",
              "      <td>0.1714</td>\n",
              "      <td>0.0</td>\n",
              "      <td>38.0</td>\n",
              "      <td>3.0</td>\n",
              "      <td>-0.2376</td>\n",
              "      <td>-1.4551</td>\n",
              "      <td>-1.3196</td>\n",
              "      <td>-2.0409</td>\n",
              "      <td>0.9042</td>\n",
              "      <td>14.61508</td>\n",
              "      <td>277.68645</td>\n",
              "      <td>45.40500</td>\n",
              "      <td>Albania</td>\n",
              "      <td>419.7</td>\n",
              "    </tr>\n",
              "  </tbody>\n",
              "</table>\n",
              "<p>5 rows × 188 columns</p>\n",
              "</div>"
            ],
            "text/plain": [
              "   CNTSCHID  LANGTEST  SC001Q01TA  ...     SENWT  Country  Score\n",
              "0    800002     140.0         1.0  ...  24.81933  Albania  419.7\n",
              "1    800003     140.0         1.0  ...  20.20900  Albania  419.7\n",
              "2    800004     140.0         1.0  ...  20.63480  Albania  419.7\n",
              "3    800005     140.0         2.0  ...  18.44654  Albania  419.7\n",
              "4    800006     140.0         2.0  ...  45.40500  Albania  419.7\n",
              "\n",
              "[5 rows x 188 columns]"
            ]
          },
          "metadata": {
            "tags": []
          },
          "execution_count": 4
        }
      ]
    },
    {
      "cell_type": "code",
      "metadata": {
        "id": "biflK2KVmOwX"
      },
      "source": [
        "columns = ['SC052Q01NA',\"SC052Q02NA\",\"SC052Q03HA\",'Score','Country']\n",
        "\n",
        "df = data[columns]\n",
        "#selected the columns that I would like to process and deleted the other columns in the dataset that were confusing."
      ],
      "execution_count": null,
      "outputs": []
    },
    {
      "cell_type": "markdown",
      "metadata": {
        "id": "LX0_2DwacgM5"
      },
      "source": [
        "##Rename Columns Name & Change Rows "
      ]
    },
    {
      "cell_type": "code",
      "metadata": {
        "colab": {
          "base_uri": "https://localhost:8080/"
        },
        "id": "9uGZ7nhOounc",
        "outputId": "0f7ddee8-f6dc-46b9-c555-4de040f36dce"
      },
      "source": [
        "df.rename(columns ={'SC052Q01NA':'Rooms',\"SC052Q02NA\":\"Staff\",\"SC052Q03HA\":\"Peer to Peer\"},inplace=True)\n",
        "#rename columns for better show."
      ],
      "execution_count": null,
      "outputs": [
        {
          "output_type": "stream",
          "text": [
            "/usr/local/lib/python3.7/dist-packages/pandas/core/frame.py:4308: SettingWithCopyWarning: \n",
            "A value is trying to be set on a copy of a slice from a DataFrame\n",
            "\n",
            "See the caveats in the documentation: https://pandas.pydata.org/pandas-docs/stable/user_guide/indexing.html#returning-a-view-versus-a-copy\n",
            "  errors=errors,\n"
          ],
          "name": "stderr"
        }
      ]
    },
    {
      "cell_type": "code",
      "metadata": {
        "colab": {
          "base_uri": "https://localhost:8080/"
        },
        "id": "Z4SIuKbl5_Yz",
        "outputId": "affc35c6-58ef-4b91-c9da-58f32ffebfff"
      },
      "source": [
        "rows_change = [\"Rooms\",\"Staff\",\"Peer to Peer\"]\n",
        "for i in rows_change:\n",
        "  df[i][df[i] == 2.0] = 0.0\n",
        "#1.0 yes \n",
        "#0.0 no  "
      ],
      "execution_count": null,
      "outputs": [
        {
          "output_type": "stream",
          "text": [
            "/usr/local/lib/python3.7/dist-packages/ipykernel_launcher.py:3: SettingWithCopyWarning: \n",
            "A value is trying to be set on a copy of a slice from a DataFrame\n",
            "\n",
            "See the caveats in the documentation: https://pandas.pydata.org/pandas-docs/stable/user_guide/indexing.html#returning-a-view-versus-a-copy\n",
            "  This is separate from the ipykernel package so we can avoid doing imports until\n",
            "/usr/local/lib/python3.7/dist-packages/pandas/core/series.py:1021: SettingWithCopyWarning: \n",
            "A value is trying to be set on a copy of a slice from a DataFrame\n",
            "\n",
            "See the caveats in the documentation: https://pandas.pydata.org/pandas-docs/stable/user_guide/indexing.html#returning-a-view-versus-a-copy\n",
            "  self._where(~key, value, inplace=True)\n",
            "/usr/local/lib/python3.7/dist-packages/ipykernel_launcher.py:3: SettingWithCopyWarning: \n",
            "A value is trying to be set on a copy of a slice from a DataFrame\n",
            "\n",
            "See the caveats in the documentation: https://pandas.pydata.org/pandas-docs/stable/user_guide/indexing.html#returning-a-view-versus-a-copy\n",
            "  This is separate from the ipykernel package so we can avoid doing imports until\n",
            "/usr/local/lib/python3.7/dist-packages/pandas/core/series.py:1021: SettingWithCopyWarning: \n",
            "A value is trying to be set on a copy of a slice from a DataFrame\n",
            "\n",
            "See the caveats in the documentation: https://pandas.pydata.org/pandas-docs/stable/user_guide/indexing.html#returning-a-view-versus-a-copy\n",
            "  self._where(~key, value, inplace=True)\n",
            "/usr/local/lib/python3.7/dist-packages/ipykernel_launcher.py:3: SettingWithCopyWarning: \n",
            "A value is trying to be set on a copy of a slice from a DataFrame\n",
            "\n",
            "See the caveats in the documentation: https://pandas.pydata.org/pandas-docs/stable/user_guide/indexing.html#returning-a-view-versus-a-copy\n",
            "  This is separate from the ipykernel package so we can avoid doing imports until\n",
            "/usr/local/lib/python3.7/dist-packages/pandas/core/series.py:1021: SettingWithCopyWarning: \n",
            "A value is trying to be set on a copy of a slice from a DataFrame\n",
            "\n",
            "See the caveats in the documentation: https://pandas.pydata.org/pandas-docs/stable/user_guide/indexing.html#returning-a-view-versus-a-copy\n",
            "  self._where(~key, value, inplace=True)\n"
          ],
          "name": "stderr"
        }
      ]
    },
    {
      "cell_type": "markdown",
      "metadata": {
        "id": "uaq_Ui3rjeZN"
      },
      "source": [
        "##Room(s) where the students can do their homework"
      ]
    },
    {
      "cell_type": "code",
      "metadata": {
        "id": "2sBNXtL1nsea"
      },
      "source": [
        "sum = df.groupby(['Country'])[['Rooms','Peer to Peer','Staff']].sum()\n",
        "sum1 = df.groupby(['Country'])[['Score']].mean()\n",
        "###we accept the highest scorer as the country with the most rooms, staff or peer to peer.\n",
        "###If is high, we can say that the quality of the school is good, but we also need to look at the score.\n",
        "sum =sum.reset_index()\n",
        "sum1=sum1.reset_index()"
      ],
      "execution_count": null,
      "outputs": []
    },
    {
      "cell_type": "code",
      "metadata": {
        "id": "LgyqMe0AoZgA"
      },
      "source": [
        "concatenated = sum.merge(sum1)"
      ],
      "execution_count": null,
      "outputs": []
    },
    {
      "cell_type": "code",
      "metadata": {
        "colab": {
          "base_uri": "https://localhost:8080/",
          "height": 173
        },
        "id": "2qyDHoZb-sg5",
        "outputId": "a5ccf625-a083-4755-c2e9-de08b1f2ffb4"
      },
      "source": [
        "concatenated.corr()\n",
        "#I looked at their relationship with the score."
      ],
      "execution_count": null,
      "outputs": [
        {
          "output_type": "execute_result",
          "data": {
            "text/html": [
              "<div>\n",
              "<style scoped>\n",
              "    .dataframe tbody tr th:only-of-type {\n",
              "        vertical-align: middle;\n",
              "    }\n",
              "\n",
              "    .dataframe tbody tr th {\n",
              "        vertical-align: top;\n",
              "    }\n",
              "\n",
              "    .dataframe thead th {\n",
              "        text-align: right;\n",
              "    }\n",
              "</style>\n",
              "<table border=\"1\" class=\"dataframe\">\n",
              "  <thead>\n",
              "    <tr style=\"text-align: right;\">\n",
              "      <th></th>\n",
              "      <th>Rooms</th>\n",
              "      <th>Peer to Peer</th>\n",
              "      <th>Staff</th>\n",
              "      <th>Score</th>\n",
              "    </tr>\n",
              "  </thead>\n",
              "  <tbody>\n",
              "    <tr>\n",
              "      <th>Rooms</th>\n",
              "      <td>1.000000</td>\n",
              "      <td>0.660811</td>\n",
              "      <td>0.834437</td>\n",
              "      <td>0.274358</td>\n",
              "    </tr>\n",
              "    <tr>\n",
              "      <th>Peer to Peer</th>\n",
              "      <td>0.660811</td>\n",
              "      <td>1.000000</td>\n",
              "      <td>0.798972</td>\n",
              "      <td>-0.077722</td>\n",
              "    </tr>\n",
              "    <tr>\n",
              "      <th>Staff</th>\n",
              "      <td>0.834437</td>\n",
              "      <td>0.798972</td>\n",
              "      <td>1.000000</td>\n",
              "      <td>0.206165</td>\n",
              "    </tr>\n",
              "    <tr>\n",
              "      <th>Score</th>\n",
              "      <td>0.274358</td>\n",
              "      <td>-0.077722</td>\n",
              "      <td>0.206165</td>\n",
              "      <td>1.000000</td>\n",
              "    </tr>\n",
              "  </tbody>\n",
              "</table>\n",
              "</div>"
            ],
            "text/plain": [
              "                 Rooms  Peer to Peer     Staff     Score\n",
              "Rooms         1.000000      0.660811  0.834437  0.274358\n",
              "Peer to Peer  0.660811      1.000000  0.798972 -0.077722\n",
              "Staff         0.834437      0.798972  1.000000  0.206165\n",
              "Score         0.274358     -0.077722  0.206165  1.000000"
            ]
          },
          "metadata": {
            "tags": []
          },
          "execution_count": 10
        }
      ]
    },
    {
      "cell_type": "code",
      "metadata": {
        "colab": {
          "base_uri": "https://localhost:8080/",
          "height": 204
        },
        "id": "06PWobAZcAGX",
        "outputId": "5bf00412-baa6-4180-e4f0-74b54729d588"
      },
      "source": [
        "concatenated.head()"
      ],
      "execution_count": null,
      "outputs": [
        {
          "output_type": "execute_result",
          "data": {
            "text/html": [
              "<div>\n",
              "<style scoped>\n",
              "    .dataframe tbody tr th:only-of-type {\n",
              "        vertical-align: middle;\n",
              "    }\n",
              "\n",
              "    .dataframe tbody tr th {\n",
              "        vertical-align: top;\n",
              "    }\n",
              "\n",
              "    .dataframe thead th {\n",
              "        text-align: right;\n",
              "    }\n",
              "</style>\n",
              "<table border=\"1\" class=\"dataframe\">\n",
              "  <thead>\n",
              "    <tr style=\"text-align: right;\">\n",
              "      <th></th>\n",
              "      <th>Country</th>\n",
              "      <th>Rooms</th>\n",
              "      <th>Peer to Peer</th>\n",
              "      <th>Staff</th>\n",
              "      <th>Score</th>\n",
              "    </tr>\n",
              "  </thead>\n",
              "  <tbody>\n",
              "    <tr>\n",
              "      <th>0</th>\n",
              "      <td>Albania</td>\n",
              "      <td>89.0</td>\n",
              "      <td>258.0</td>\n",
              "      <td>182.0</td>\n",
              "      <td>419.7</td>\n",
              "    </tr>\n",
              "    <tr>\n",
              "      <th>1</th>\n",
              "      <td>Argentina</td>\n",
              "      <td>158.0</td>\n",
              "      <td>330.0</td>\n",
              "      <td>225.0</td>\n",
              "      <td>395.0</td>\n",
              "    </tr>\n",
              "    <tr>\n",
              "      <th>2</th>\n",
              "      <td>Australia</td>\n",
              "      <td>578.0</td>\n",
              "      <td>279.0</td>\n",
              "      <td>631.0</td>\n",
              "      <td>499.0</td>\n",
              "    </tr>\n",
              "    <tr>\n",
              "      <th>3</th>\n",
              "      <td>Austria</td>\n",
              "      <td>223.0</td>\n",
              "      <td>104.0</td>\n",
              "      <td>105.0</td>\n",
              "      <td>491.0</td>\n",
              "    </tr>\n",
              "    <tr>\n",
              "      <th>4</th>\n",
              "      <td>B-S-J-Z (China)</td>\n",
              "      <td>192.0</td>\n",
              "      <td>335.0</td>\n",
              "      <td>254.0</td>\n",
              "      <td>578.7</td>\n",
              "    </tr>\n",
              "  </tbody>\n",
              "</table>\n",
              "</div>"
            ],
            "text/plain": [
              "           Country  Rooms  Peer to Peer  Staff  Score\n",
              "0          Albania   89.0         258.0  182.0  419.7\n",
              "1        Argentina  158.0         330.0  225.0  395.0\n",
              "2        Australia  578.0         279.0  631.0  499.0\n",
              "3          Austria  223.0         104.0  105.0  491.0\n",
              "4  B-S-J-Z (China)  192.0         335.0  254.0  578.7"
            ]
          },
          "metadata": {
            "tags": []
          },
          "execution_count": 11
        }
      ]
    },
    {
      "cell_type": "markdown",
      "metadata": {
        "id": "gUQryemSZgNe"
      },
      "source": [
        "###Despite the fact that China is the most successful country, the number of private study rooms provided by the school is small."
      ]
    },
    {
      "cell_type": "markdown",
      "metadata": {
        "id": "FWJzQYDuZcBB"
      },
      "source": [
        "###Best 10 Country For Rooms"
      ]
    },
    {
      "cell_type": "code",
      "metadata": {
        "id": "LP1paT-WfaeZ"
      },
      "source": [
        "best_10_scores_rooms = concatenated.nlargest(10,\"Rooms\")"
      ],
      "execution_count": null,
      "outputs": []
    },
    {
      "cell_type": "code",
      "metadata": {
        "colab": {
          "base_uri": "https://localhost:8080/",
          "height": 359
        },
        "id": "VfynCkhjfjNC",
        "outputId": "d645dec9-527c-4b76-961b-fce819258d34"
      },
      "source": [
        "best_10_scores_rooms\n",
        "##Top 10 countries with the highest number of private rooms where students can do their homework."
      ],
      "execution_count": null,
      "outputs": [
        {
          "output_type": "execute_result",
          "data": {
            "text/html": [
              "<div>\n",
              "<style scoped>\n",
              "    .dataframe tbody tr th:only-of-type {\n",
              "        vertical-align: middle;\n",
              "    }\n",
              "\n",
              "    .dataframe tbody tr th {\n",
              "        vertical-align: top;\n",
              "    }\n",
              "\n",
              "    .dataframe thead th {\n",
              "        text-align: right;\n",
              "    }\n",
              "</style>\n",
              "<table border=\"1\" class=\"dataframe\">\n",
              "  <thead>\n",
              "    <tr style=\"text-align: right;\">\n",
              "      <th></th>\n",
              "      <th>Country</th>\n",
              "      <th>Rooms</th>\n",
              "      <th>Peer to Peer</th>\n",
              "      <th>Staff</th>\n",
              "      <th>Score</th>\n",
              "    </tr>\n",
              "  </thead>\n",
              "  <tbody>\n",
              "    <tr>\n",
              "      <th>68</th>\n",
              "      <td>Spain</td>\n",
              "      <td>774.0</td>\n",
              "      <td>390.0</td>\n",
              "      <td>447.0</td>\n",
              "      <td>483.0</td>\n",
              "    </tr>\n",
              "    <tr>\n",
              "      <th>12</th>\n",
              "      <td>Canada</td>\n",
              "      <td>715.0</td>\n",
              "      <td>528.0</td>\n",
              "      <td>709.0</td>\n",
              "      <td>516.7</td>\n",
              "    </tr>\n",
              "    <tr>\n",
              "      <th>2</th>\n",
              "      <td>Australia</td>\n",
              "      <td>578.0</td>\n",
              "      <td>279.0</td>\n",
              "      <td>631.0</td>\n",
              "      <td>499.0</td>\n",
              "    </tr>\n",
              "    <tr>\n",
              "      <th>76</th>\n",
              "      <td>United Kingdom</td>\n",
              "      <td>358.0</td>\n",
              "      <td>227.0</td>\n",
              "      <td>346.0</td>\n",
              "      <td>503.7</td>\n",
              "    </tr>\n",
              "    <tr>\n",
              "      <th>36</th>\n",
              "      <td>Kazakhstan</td>\n",
              "      <td>328.0</td>\n",
              "      <td>555.0</td>\n",
              "      <td>555.0</td>\n",
              "      <td>402.3</td>\n",
              "    </tr>\n",
              "    <tr>\n",
              "      <th>67</th>\n",
              "      <td>South Korea</td>\n",
              "      <td>322.0</td>\n",
              "      <td>262.0</td>\n",
              "      <td>128.0</td>\n",
              "      <td>519.7</td>\n",
              "    </tr>\n",
              "    <tr>\n",
              "      <th>40</th>\n",
              "      <td>Lithuania</td>\n",
              "      <td>300.0</td>\n",
              "      <td>230.0</td>\n",
              "      <td>303.0</td>\n",
              "      <td>479.7</td>\n",
              "    </tr>\n",
              "    <tr>\n",
              "      <th>66</th>\n",
              "      <td>Slovenia</td>\n",
              "      <td>288.0</td>\n",
              "      <td>167.0</td>\n",
              "      <td>175.0</td>\n",
              "      <td>503.7</td>\n",
              "    </tr>\n",
              "    <tr>\n",
              "      <th>33</th>\n",
              "      <td>Italy</td>\n",
              "      <td>280.0</td>\n",
              "      <td>301.0</td>\n",
              "      <td>240.0</td>\n",
              "      <td>477.0</td>\n",
              "    </tr>\n",
              "    <tr>\n",
              "      <th>9</th>\n",
              "      <td>Brazil</td>\n",
              "      <td>266.0</td>\n",
              "      <td>181.0</td>\n",
              "      <td>74.0</td>\n",
              "      <td>400.3</td>\n",
              "    </tr>\n",
              "  </tbody>\n",
              "</table>\n",
              "</div>"
            ],
            "text/plain": [
              "           Country  Rooms  Peer to Peer  Staff  Score\n",
              "68           Spain  774.0         390.0  447.0  483.0\n",
              "12          Canada  715.0         528.0  709.0  516.7\n",
              "2        Australia  578.0         279.0  631.0  499.0\n",
              "76  United Kingdom  358.0         227.0  346.0  503.7\n",
              "36      Kazakhstan  328.0         555.0  555.0  402.3\n",
              "67     South Korea  322.0         262.0  128.0  519.7\n",
              "40       Lithuania  300.0         230.0  303.0  479.7\n",
              "66        Slovenia  288.0         167.0  175.0  503.7\n",
              "33           Italy  280.0         301.0  240.0  477.0\n",
              "9           Brazil  266.0         181.0   74.0  400.3"
            ]
          },
          "metadata": {
            "tags": []
          },
          "execution_count": 13
        }
      ]
    },
    {
      "cell_type": "code",
      "metadata": {
        "colab": {
          "base_uri": "https://localhost:8080/",
          "height": 1000
        },
        "id": "XF0X9hnswGZ-",
        "outputId": "381637b6-7a99-47be-9bea-7b449acd9f5b"
      },
      "source": [
        "best_10_scores_rooms.groupby('Country')['Rooms','Score'].mean().plot(kind =\"barh\",figsize=(8,20))\n",
        "plt.yticks(size = 11)\n",
        "plt.xlabel(\"Count\",size = 10)\n",
        "plt.ylabel(\"Country\",size = 10)\n",
        "plt.title(\"Scores and Rooms by Country\",size = 15)\n",
        "plt.show()\n",
        "#room sayısı vs score.\n"
      ],
      "execution_count": null,
      "outputs": [
        {
          "output_type": "stream",
          "text": [
            "/usr/local/lib/python3.7/dist-packages/ipykernel_launcher.py:1: FutureWarning: Indexing with multiple keys (implicitly converted to a tuple of keys) will be deprecated, use a list instead.\n",
            "  \"\"\"Entry point for launching an IPython kernel.\n"
          ],
          "name": "stderr"
        },
        {
          "output_type": "display_data",
          "data": {
            "image/png": "[encoded data removed]",
            "text/plain": [
              "<Figure size 576x1440 with 1 Axes>"
            ]
          },
          "metadata": {
            "tags": [],
            "needs_background": "light"
          }
        }
      ]
    },
    {
      "cell_type": "markdown",
      "metadata": {
        "id": "20f_oBXvxkaA"
      },
      "source": [
        "###1.When we look at the total scores of countries with more than 500  rooms, we observe that it is higher than 450. This can actually be a factor for success. However, the fact that countries such as China or Singapore are not included here suggests that it is not a feature that directly affects success.\n",
        "###2.We saw that the country with the most rooms is Spain. Maybe having these rooms may have increased the success of Spain, but when we look at the general, it is not possible to make such an inference."
      ]
    },
    {
      "cell_type": "markdown",
      "metadata": {
        "id": "AzA2iLjx3IKS"
      },
      "source": [
        "##Staff help with homework"
      ]
    },
    {
      "cell_type": "code",
      "metadata": {
        "id": "hs5Sjj2F3KhK"
      },
      "source": [
        "best_10_scores_staff = concatenated.nlargest(10,\"Staff\")\n",
        "#Top 10 countries Staff help with homework"
      ],
      "execution_count": null,
      "outputs": []
    },
    {
      "cell_type": "code",
      "metadata": {
        "colab": {
          "base_uri": "https://localhost:8080/",
          "height": 359
        },
        "id": "XIL_5aHM3qou",
        "outputId": "5a5ecbe0-5bd9-4214-8b4c-eaa1a83748e9"
      },
      "source": [
        "best_10_scores_staff"
      ],
      "execution_count": null,
      "outputs": [
        {
          "output_type": "execute_result",
          "data": {
            "text/html": [
              "<div>\n",
              "<style scoped>\n",
              "    .dataframe tbody tr th:only-of-type {\n",
              "        vertical-align: middle;\n",
              "    }\n",
              "\n",
              "    .dataframe tbody tr th {\n",
              "        vertical-align: top;\n",
              "    }\n",
              "\n",
              "    .dataframe thead th {\n",
              "        text-align: right;\n",
              "    }\n",
              "</style>\n",
              "<table border=\"1\" class=\"dataframe\">\n",
              "  <thead>\n",
              "    <tr style=\"text-align: right;\">\n",
              "      <th></th>\n",
              "      <th>Country</th>\n",
              "      <th>Rooms</th>\n",
              "      <th>Peer to Peer</th>\n",
              "      <th>Staff</th>\n",
              "      <th>Score</th>\n",
              "    </tr>\n",
              "  </thead>\n",
              "  <tbody>\n",
              "    <tr>\n",
              "      <th>12</th>\n",
              "      <td>Canada</td>\n",
              "      <td>715.0</td>\n",
              "      <td>528.0</td>\n",
              "      <td>709.0</td>\n",
              "      <td>516.7</td>\n",
              "    </tr>\n",
              "    <tr>\n",
              "      <th>2</th>\n",
              "      <td>Australia</td>\n",
              "      <td>578.0</td>\n",
              "      <td>279.0</td>\n",
              "      <td>631.0</td>\n",
              "      <td>499.0</td>\n",
              "    </tr>\n",
              "    <tr>\n",
              "      <th>36</th>\n",
              "      <td>Kazakhstan</td>\n",
              "      <td>328.0</td>\n",
              "      <td>555.0</td>\n",
              "      <td>555.0</td>\n",
              "      <td>402.3</td>\n",
              "    </tr>\n",
              "    <tr>\n",
              "      <th>68</th>\n",
              "      <td>Spain</td>\n",
              "      <td>774.0</td>\n",
              "      <td>390.0</td>\n",
              "      <td>447.0</td>\n",
              "      <td>483.0</td>\n",
              "    </tr>\n",
              "    <tr>\n",
              "      <th>75</th>\n",
              "      <td>United Arab Emirates</td>\n",
              "      <td>249.0</td>\n",
              "      <td>359.0</td>\n",
              "      <td>406.0</td>\n",
              "      <td>433.7</td>\n",
              "    </tr>\n",
              "    <tr>\n",
              "      <th>76</th>\n",
              "      <td>United Kingdom</td>\n",
              "      <td>358.0</td>\n",
              "      <td>227.0</td>\n",
              "      <td>346.0</td>\n",
              "      <td>503.7</td>\n",
              "    </tr>\n",
              "    <tr>\n",
              "      <th>61</th>\n",
              "      <td>Russian Federation</td>\n",
              "      <td>242.0</td>\n",
              "      <td>352.0</td>\n",
              "      <td>318.0</td>\n",
              "      <td>481.7</td>\n",
              "    </tr>\n",
              "    <tr>\n",
              "      <th>40</th>\n",
              "      <td>Lithuania</td>\n",
              "      <td>300.0</td>\n",
              "      <td>230.0</td>\n",
              "      <td>303.0</td>\n",
              "      <td>479.7</td>\n",
              "    </tr>\n",
              "    <tr>\n",
              "      <th>4</th>\n",
              "      <td>B-S-J-Z (China)</td>\n",
              "      <td>192.0</td>\n",
              "      <td>335.0</td>\n",
              "      <td>254.0</td>\n",
              "      <td>578.7</td>\n",
              "    </tr>\n",
              "    <tr>\n",
              "      <th>33</th>\n",
              "      <td>Italy</td>\n",
              "      <td>280.0</td>\n",
              "      <td>301.0</td>\n",
              "      <td>240.0</td>\n",
              "      <td>477.0</td>\n",
              "    </tr>\n",
              "  </tbody>\n",
              "</table>\n",
              "</div>"
            ],
            "text/plain": [
              "                 Country  Rooms  Peer to Peer  Staff  Score\n",
              "12                Canada  715.0         528.0  709.0  516.7\n",
              "2              Australia  578.0         279.0  631.0  499.0\n",
              "36            Kazakhstan  328.0         555.0  555.0  402.3\n",
              "68                 Spain  774.0         390.0  447.0  483.0\n",
              "75  United Arab Emirates  249.0         359.0  406.0  433.7\n",
              "76        United Kingdom  358.0         227.0  346.0  503.7\n",
              "61    Russian Federation  242.0         352.0  318.0  481.7\n",
              "40             Lithuania  300.0         230.0  303.0  479.7\n",
              "4        B-S-J-Z (China)  192.0         335.0  254.0  578.7\n",
              "33                 Italy  280.0         301.0  240.0  477.0"
            ]
          },
          "metadata": {
            "tags": []
          },
          "execution_count": 16
        }
      ]
    },
    {
      "cell_type": "code",
      "metadata": {
        "colab": {
          "base_uri": "https://localhost:8080/",
          "height": 1000
        },
        "id": "xns1nM5P8SCh",
        "outputId": "9a1fbf2e-095c-4b81-a071-372754237878"
      },
      "source": [
        "best_10_scores_staff.groupby('Country')['Staff','Score'].mean().plot(kind =\"barh\",figsize=(8,20))\n",
        "plt.yticks(size = 11)\n",
        "plt.xlabel(\"Count\",size = 10)\n",
        "plt.ylabel(\"Country\",size = 10)\n",
        "plt.title(\"Scores and Staff by Country\",size = 15)\n",
        "plt.show()"
      ],
      "execution_count": null,
      "outputs": [
        {
          "output_type": "stream",
          "text": [
            "/usr/local/lib/python3.7/dist-packages/ipykernel_launcher.py:1: FutureWarning: Indexing with multiple keys (implicitly converted to a tuple of keys) will be deprecated, use a list instead.\n",
            "  \"\"\"Entry point for launching an IPython kernel.\n"
          ],
          "name": "stderr"
        },
        {
          "output_type": "display_data",
          "data": {
            "image/png": "[encoded data removed]",
            "text/plain": [
              "<Figure size 576x1440 with 1 Axes>"
            ]
          },
          "metadata": {
            "tags": [],
            "needs_background": "light"
          }
        }
      ]
    },
    {
      "cell_type": "markdown",
      "metadata": {
        "id": "FBUyi9ay8qOB"
      },
      "source": [
        "##Peer to Peer Tutoring"
      ]
    },
    {
      "cell_type": "code",
      "metadata": {
        "id": "C04qnP7O8t9D"
      },
      "source": [
        "best_10_scores_p2p = concatenated.nlargest(10,\"Peer to Peer\")\n"
      ],
      "execution_count": null,
      "outputs": []
    },
    {
      "cell_type": "code",
      "metadata": {
        "colab": {
          "base_uri": "https://localhost:8080/",
          "height": 359
        },
        "id": "Qtt84lxY81or",
        "outputId": "fbcd439d-8342-4f73-cf38-c49634f57887"
      },
      "source": [
        "best_10_scores_p2p"
      ],
      "execution_count": null,
      "outputs": [
        {
          "output_type": "execute_result",
          "data": {
            "text/html": [
              "<div>\n",
              "<style scoped>\n",
              "    .dataframe tbody tr th:only-of-type {\n",
              "        vertical-align: middle;\n",
              "    }\n",
              "\n",
              "    .dataframe tbody tr th {\n",
              "        vertical-align: top;\n",
              "    }\n",
              "\n",
              "    .dataframe thead th {\n",
              "        text-align: right;\n",
              "    }\n",
              "</style>\n",
              "<table border=\"1\" class=\"dataframe\">\n",
              "  <thead>\n",
              "    <tr style=\"text-align: right;\">\n",
              "      <th></th>\n",
              "      <th>Country</th>\n",
              "      <th>Rooms</th>\n",
              "      <th>Peer to Peer</th>\n",
              "      <th>Staff</th>\n",
              "      <th>Score</th>\n",
              "    </tr>\n",
              "  </thead>\n",
              "  <tbody>\n",
              "    <tr>\n",
              "      <th>36</th>\n",
              "      <td>Kazakhstan</td>\n",
              "      <td>328.0</td>\n",
              "      <td>555.0</td>\n",
              "      <td>555.0</td>\n",
              "      <td>402.3</td>\n",
              "    </tr>\n",
              "    <tr>\n",
              "      <th>12</th>\n",
              "      <td>Canada</td>\n",
              "      <td>715.0</td>\n",
              "      <td>528.0</td>\n",
              "      <td>709.0</td>\n",
              "      <td>516.7</td>\n",
              "    </tr>\n",
              "    <tr>\n",
              "      <th>68</th>\n",
              "      <td>Spain</td>\n",
              "      <td>774.0</td>\n",
              "      <td>390.0</td>\n",
              "      <td>447.0</td>\n",
              "      <td>483.0</td>\n",
              "    </tr>\n",
              "    <tr>\n",
              "      <th>75</th>\n",
              "      <td>United Arab Emirates</td>\n",
              "      <td>249.0</td>\n",
              "      <td>359.0</td>\n",
              "      <td>406.0</td>\n",
              "      <td>433.7</td>\n",
              "    </tr>\n",
              "    <tr>\n",
              "      <th>61</th>\n",
              "      <td>Russian Federation</td>\n",
              "      <td>242.0</td>\n",
              "      <td>352.0</td>\n",
              "      <td>318.0</td>\n",
              "      <td>481.7</td>\n",
              "    </tr>\n",
              "    <tr>\n",
              "      <th>4</th>\n",
              "      <td>B-S-J-Z (China)</td>\n",
              "      <td>192.0</td>\n",
              "      <td>335.0</td>\n",
              "      <td>254.0</td>\n",
              "      <td>578.7</td>\n",
              "    </tr>\n",
              "    <tr>\n",
              "      <th>1</th>\n",
              "      <td>Argentina</td>\n",
              "      <td>158.0</td>\n",
              "      <td>330.0</td>\n",
              "      <td>225.0</td>\n",
              "      <td>395.0</td>\n",
              "    </tr>\n",
              "    <tr>\n",
              "      <th>33</th>\n",
              "      <td>Italy</td>\n",
              "      <td>280.0</td>\n",
              "      <td>301.0</td>\n",
              "      <td>240.0</td>\n",
              "      <td>477.0</td>\n",
              "    </tr>\n",
              "    <tr>\n",
              "      <th>2</th>\n",
              "      <td>Australia</td>\n",
              "      <td>578.0</td>\n",
              "      <td>279.0</td>\n",
              "      <td>631.0</td>\n",
              "      <td>499.0</td>\n",
              "    </tr>\n",
              "    <tr>\n",
              "      <th>72</th>\n",
              "      <td>Thailand</td>\n",
              "      <td>228.0</td>\n",
              "      <td>277.0</td>\n",
              "      <td>208.0</td>\n",
              "      <td>412.7</td>\n",
              "    </tr>\n",
              "  </tbody>\n",
              "</table>\n",
              "</div>"
            ],
            "text/plain": [
              "                 Country  Rooms  Peer to Peer  Staff  Score\n",
              "36            Kazakhstan  328.0         555.0  555.0  402.3\n",
              "12                Canada  715.0         528.0  709.0  516.7\n",
              "68                 Spain  774.0         390.0  447.0  483.0\n",
              "75  United Arab Emirates  249.0         359.0  406.0  433.7\n",
              "61    Russian Federation  242.0         352.0  318.0  481.7\n",
              "4        B-S-J-Z (China)  192.0         335.0  254.0  578.7\n",
              "1              Argentina  158.0         330.0  225.0  395.0\n",
              "33                 Italy  280.0         301.0  240.0  477.0\n",
              "2              Australia  578.0         279.0  631.0  499.0\n",
              "72              Thailand  228.0         277.0  208.0  412.7"
            ]
          },
          "metadata": {
            "tags": []
          },
          "execution_count": 19
        }
      ]
    },
    {
      "cell_type": "code",
      "metadata": {
        "colab": {
          "base_uri": "https://localhost:8080/",
          "height": 1000
        },
        "id": "mV_148931k1A",
        "outputId": "fb2e2f4e-d1d2-4141-efee-13faca4c2d28"
      },
      "source": [
        "best_10_scores_p2p.groupby('Country')['Peer to Peer','Score'].mean().plot(kind =\"barh\",figsize=(8,20))\n",
        "plt.yticks(size = 11)\n",
        "plt.xlabel(\"Count\",size = 10)\n",
        "plt.ylabel(\"Country\",size = 10)\n",
        "plt.title(\"Scores and P2P by Country\",size = 15)\n",
        "plt.show()\n"
      ],
      "execution_count": null,
      "outputs": [
        {
          "output_type": "stream",
          "text": [
            "/usr/local/lib/python3.7/dist-packages/ipykernel_launcher.py:1: FutureWarning: Indexing with multiple keys (implicitly converted to a tuple of keys) will be deprecated, use a list instead.\n",
            "  \"\"\"Entry point for launching an IPython kernel.\n"
          ],
          "name": "stderr"
        },
        {
          "output_type": "display_data",
          "data": {
            "image/png": "[encoded data removed]",
            "text/plain": [
              "<Figure size 576x1440 with 1 Axes>"
            ]
          },
          "metadata": {
            "tags": [],
            "needs_background": "light"
          }
        }
      ]
    },
    {
      "cell_type": "markdown",
      "metadata": {
        "id": "VEtWulnlAj-i"
      },
      "source": [
        "##All Together -FINAL"
      ]
    },
    {
      "cell_type": "code",
      "metadata": {
        "colab": {
          "base_uri": "https://localhost:8080/",
          "height": 1000
        },
        "id": "6HL4ilea7xHZ",
        "outputId": "d870b3b6-f27b-41cb-9dfc-c265847fa1de"
      },
      "source": [
        "concatenated.groupby('Country').mean().plot(kind =\"barh\",figsize=(15,25))\n",
        "plt.yticks(size = 11)\n",
        "plt.xlabel(\"Count\",size = 10)\n",
        "plt.ylabel(\"Country\",size = 10)\n",
        "plt.title(\"Scores and All of them by Country\",size = 15)\n",
        "plt.show()\n"
      ],
      "execution_count": null,
      "outputs": [
        {
          "output_type": "display_data",
          "data": {
            "image/png": "[encoded data removed]",
            "text/plain": [
              "<Figure size 1080x1800 with 1 Axes>"
            ]
          },
          "metadata": {
            "tags": [],
            "needs_background": "light"
          }
        }
      ]
    },
    {
      "cell_type": "markdown",
      "metadata": {
        "id": "FgD1wqWoe5Ck"
      },
      "source": [
        "###In this image, we viewed all OECD countries and observed the room, staff, p2p and score points of each country. What draws our attention is the fact that the number of rooms and staff in Canada is really high compared to other countries. We can say that schools in Canada give importance to such features. Another country that draws our attention is the fact that the number of such features in the schools of Macao, which has a very high success rate, is very low."
      ]
    },
    {
      "cell_type": "code",
      "metadata": {
        "id": "Q8_ctIR8aS4m"
      },
      "source": [
        ""
      ],
      "execution_count": null,
      "outputs": []
    }
  ]
}